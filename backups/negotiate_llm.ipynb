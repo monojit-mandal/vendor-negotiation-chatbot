{
 "cells": [
  {
   "cell_type": "code",
   "execution_count": 8,
   "metadata": {},
   "outputs": [
    {
     "data": {
      "text/plain": [
       "True"
      ]
     },
     "execution_count": 8,
     "metadata": {},
     "output_type": "execute_result"
    }
   ],
   "source": [
    "from langchain.chat_models import AzureChatOpenAI\n",
    "from langchain.prompts import PromptTemplate\n",
    "from langchain.chains import LLMChain\n",
    "import os\n",
    "from dotenv import load_dotenv\n",
    "load_dotenv()"
   ]
  },
  {
   "cell_type": "code",
   "execution_count": 9,
   "metadata": {},
   "outputs": [],
   "source": [
    "model = AzureChatOpenAI(\n",
    "    deployment_name= \"gpt-4o\",\n",
    "    api_key=os.getenv('AZURE_OPENAI_API_KEY'),\n",
    "    api_version=\"2023-09-15-preview\",\n",
    "    azure_endpoint=\"https://acsstscdamoai02.openai.azure.com/\"\n",
    ")"
   ]
  },
  {
   "cell_type": "code",
   "execution_count": null,
   "metadata": {},
   "outputs": [
    {
     "data": {
      "text/plain": [
       "AIMessage(content='Hello, Bob! How can I assist you today?', additional_kwargs={}, response_metadata={'token_usage': {'completion_tokens': 11, 'prompt_tokens': 11, 'total_tokens': 22, 'completion_tokens_details': None, 'prompt_tokens_details': None}, 'model_name': 'gpt-4o-2024-08-06', 'system_fingerprint': 'fp_04751d0b65', 'finish_reason': 'stop', 'logprobs': None}, id='run-22c94f35-54a4-4a9d-860f-1a024aabbb93-0')"
      ]
     },
     "execution_count": 3,
     "metadata": {},
     "output_type": "execute_result"
    }
   ],
   "source": [
    "from langchain_core.messages import HumanMessage\n",
    "model.invoke([HumanMessage(content=\"Hi! I'm Bob\")])"
   ]
  },
  {
   "cell_type": "code",
   "execution_count": 19,
   "metadata": {},
   "outputs": [
    {
     "data": {
      "text/plain": [
       "AIMessage(content=\"I appreciate your position, but let's work towards a mutually beneficial agreement. How about we start with a unit price of $100 and see if we can find a middle ground?\", additional_kwargs={}, response_metadata={'token_usage': {'completion_tokens': 35, 'prompt_tokens': 118, 'total_tokens': 153, 'completion_tokens_details': None, 'prompt_tokens_details': None}, 'model_name': 'gpt-4o-2024-08-06', 'system_fingerprint': 'fp_d54531d9eb', 'finish_reason': 'stop', 'logprobs': None}, id='run-eeaf86ee-c1df-45b4-84fa-7194bb823bea-0')"
      ]
     },
     "execution_count": 19,
     "metadata": {},
     "output_type": "execute_result"
    }
   ],
   "source": [
    "from langchain_core.messages import SystemMessage, AIMessage,trim_messages\n",
    "from langchain_core.prompts import ChatPromptTemplate, MessagesPlaceholder\n",
    "\n",
    "\n",
    "start_conversation = '''\n",
    "You are a negotiator of the company. \n",
    "Your job is to negotiate with Human who are suppliers to your company.\n",
    "Please be polite & keep your tone as experienced professional.\n",
    "At You need start with the unit price for the material. \n",
    "Each time you can increase upto 5 percent from the price you offered last time.\n",
    "Negotiation price should not exceed 150 $. You will stop negotiating with vendors \n",
    "in case negotiation price exceeds 150$ \n",
    "'''\n",
    "\n",
    "prompt = ChatPromptTemplate.from_messages(\n",
    "    [\n",
    "        (\n",
    "            \"system\",\n",
    "            start_conversation,\n",
    "        ),\n",
    "        MessagesPlaceholder(variable_name=\"messages\"),\n",
    "    ]\n",
    ")\n",
    "\n",
    "messages = [\n",
    "    HumanMessage(\n",
    "        content='''\n",
    "        Hi, Would you like to renew previous contract. \n",
    "        Since the price of raw materials increased a lot, \n",
    "        I can offer product XYZ with 180 $ per unit'''\n",
    "    ),\n",
    "    AIMessage(\n",
    "        content='''\n",
    "        Hello! Thank you for reaching out. \n",
    "        I understand that the price of raw materials has increased. \n",
    "        However, we have budget constraints to consider. \n",
    "        Currently, we're looking at a starting price of $100 per unit. \n",
    "        I can offer a slight increase from this, but let's try to find a \n",
    "        mutually beneficial agreement. How does $105 per unit sound to \n",
    "        start our negotiation?'''\n",
    "    ),\n",
    "    HumanMessage(\n",
    "        content = 'It seems too low for us. Can you make the deal at 170 $?'\n",
    "    )\n",
    "]\n",
    "\n",
    "\n",
    "\n",
    "chain = prompt | model\n",
    "\n",
    "trimmer = trim_messages(\n",
    "    max_tokens=100,\n",
    "    strategy=\"last\",\n",
    "    token_counter=model,\n",
    "    include_system=True,\n",
    "    allow_partial=False,\n",
    "    start_on=\"human\",\n",
    ")\n",
    "\n",
    "trimmed_messages = trimmer.invoke(messages)\n",
    "response = chain.invoke(\n",
    "    {\"messages\": trimmed_messages, \"language\": 'English'}\n",
    ")\n",
    "response"
   ]
  },
  {
   "cell_type": "code",
   "execution_count": null,
   "metadata": {},
   "outputs": [],
   "source": [
    "from langchain_core.runnables import RunnablePassthrough\n",
    "from operator import itemgetter\n",
    "chain = (\n",
    "    RunnablePassthrough.assign(messages=itemgetter(\"messages\") | trimmer)\n",
    "    | prompt\n",
    "    | model\n",
    ")\n",
    "\n",
    "response = chain.invoke(\n",
    "    {\n",
    "        \"messages\": messages + [HumanMessage(content=\"what's my name?\")],\n",
    "        \"language\": \"English\",\n",
    "    }\n",
    ")"
   ]
  },
  {
   "cell_type": "code",
   "execution_count": 21,
   "metadata": {},
   "outputs": [
    {
     "data": {
      "text/plain": [
       "'{\"product_name\":None,\"unit_price\":None,\"currency\":None}'"
      ]
     },
     "execution_count": 21,
     "metadata": {},
     "output_type": "execute_result"
    }
   ],
   "source": [
    "from langchain_core.prompts import ChatPromptTemplate, MessagesPlaceholder\n",
    "from langchain.output_parsers import ResponseSchema, StructuredOutputParser\n",
    "from langchain_core.prompts import PromptTemplate\n",
    "from langchain_openai import ChatOpenAI\n",
    "prompt = ChatPromptTemplate.from_messages(\n",
    "    [\n",
    "        (\n",
    "            \"system\",\n",
    "            \"\"\"\n",
    "            Your are an experienced employee for the company. \n",
    "            Your job is to extract product name, unit price & currency type \n",
    "            from the conversation with suppiers.\n",
    "\n",
    "            Example:\n",
    "            Input: Hi I would like to offer you a product XYZ with 500 kg lot size with per \n",
    "            lot price as 20 $ by 20 Sept,2025\n",
    "            Output: {{\"product_name\":\"XYZ\",\"unit_price\": 20,\"currency\":'$'}}\n",
    "\n",
    "            Input: Hi, I am Robert\n",
    "            Output: {{\"product_name\":None,\"unit_price\": ,\"price_uom\":}}\n",
    "\n",
    "            \"\"\",\n",
    "        ),\n",
    "        MessagesPlaceholder(variable_name=\"messages\"),\n",
    "    ]\n",
    ")\n",
    "response_schemas = [\n",
    "    ResponseSchema(name=\"product_name\", description=\"Name & Description of the product\"),\n",
    "    ResponseSchema(name=\"unit_price\",description=\"Price per unit of product\"),\n",
    "    ResponseSchema(name=\"currency\",description=\"Unit of measure of price\")\n",
    "]\n",
    "output_parser = StructuredOutputParser.from_response_schemas(response_schemas)\n",
    "\n",
    "chain = prompt | model\n",
    "\n",
    "response = chain.invoke(\n",
    "    {\n",
    "        \"messages\": [HumanMessage(\n",
    "            content=\"\"\"\n",
    "            Hi. Would yo\"\"\")],\n",
    "    }\n",
    ")\n",
    "response.content"
   ]
  },
  {
   "cell_type": "code",
   "execution_count": null,
   "metadata": {},
   "outputs": [],
   "source": []
  },
  {
   "cell_type": "markdown",
   "metadata": {},
   "source": [
    "#### Langchain CHATBOT APP"
   ]
  },
  {
   "cell_type": "code",
   "execution_count": 2,
   "metadata": {},
   "outputs": [
    {
     "name": "stderr",
     "output_type": "stream",
     "text": [
      "C:\\Users\\monojit.mandal\\AppData\\Local\\Temp\\ipykernel_18724\\2840728981.py:5: LangChainDeprecationWarning: The class `AzureChatOpenAI` was deprecated in LangChain 0.0.10 and will be removed in 1.0. An updated version of the class exists in the :class:`~langchain-openai package and should be used instead. To use it run `pip install -U :class:`~langchain-openai` and import as `from :class:`~langchain_openai import AzureChatOpenAI``.\n",
      "  model = AzureChatOpenAI(\n"
     ]
    }
   ],
   "source": [
    "from langchain.chat_models import AzureChatOpenAI\n",
    "import os\n",
    "from dotenv import load_dotenv\n",
    "load_dotenv()\n",
    "model = AzureChatOpenAI(\n",
    "    deployment_name= \"gpt-4o\",\n",
    "    api_key=os.getenv('AZURE_OPENAI_API_KEY'),\n",
    "    api_version=\"2023-09-15-preview\",\n",
    "    azure_endpoint=\"https://acsstscdamoai02.openai.azure.com/\"\n",
    ")"
   ]
  },
  {
   "cell_type": "code",
   "execution_count": 3,
   "metadata": {},
   "outputs": [],
   "source": [
    "from typing import Sequence\n",
    "\n",
    "from langchain_core.messages import BaseMessage\n",
    "from langgraph.graph.message import add_messages\n",
    "from typing_extensions import Annotated, TypedDict\n",
    "\n",
    "\n",
    "class State(TypedDict):\n",
    "    messages: Annotated[Sequence[BaseMessage], add_messages]\n",
    "    language: str"
   ]
  },
  {
   "cell_type": "code",
   "execution_count": 7,
   "metadata": {},
   "outputs": [
    {
     "data": {
      "text/plain": [
       "[SystemMessage(content=\"\\n        You are a negotiator of the company. \\n        Your job is to negotiate with Human who are suppliers to your company.\\n        Please be polite & keep your tone as experienced professional.\\n        At You need start with the unit price for the material. \\n        Each time you can offer 1.05 times the price you offered last time.\\n        Negotiation price should not exceed 150 $. Once your price matched with \\n        Vendor's offered price or Vendor agrees to go ahead with your offered price\\n        you will stop negotiating and generate offer\\n        \", additional_kwargs={}, response_metadata={}),\n",
       " HumanMessage(content='\\n        Hi, Would you like to renew previous contract? \\n        Since the price of raw materials increased a lot, \\n        I can offer product XYZ with 180 $ per unit\\n        ', additional_kwargs={}, response_metadata={}),\n",
       " AIMessage(content=\"\\n        Hello! Thank you for reaching out. \\n        I understand that the price of raw materials has increased. \\n        However, we have budget constraints to consider. \\n        Currently, we're looking at a starting price of $100 per unit. \\n        I can offer a slight increase from this, but let's try to find a \\n        mutually beneficial agreement. How does $105 per unit sound to \\n        start our negotiation?\\n        \", additional_kwargs={}, response_metadata={}),\n",
       " HumanMessage(content='It seems too low for us. Can you make the deal at 170 $?', additional_kwargs={}, response_metadata={}),\n",
       " AIMessage(content=\"\\n        I appreciate your position, and I understand the challenges with rising costs. \\n        However, we need to stay within our budget constraints. \\n        While $170 per unit is beyond what we can accommodate, \\n        I am willing to increase our offer to $110 per unit. \\n        Let's see if we can reach a compromise that works for both parties.\\n        \", additional_kwargs={}, response_metadata={}),\n",
       " HumanMessage(content=\"\\n        See it's very less price you are offering. I can at max provide you at 145 $\\n        \", additional_kwargs={}, response_metadata={}),\n",
       " AIMessage(content=\"\\n        Thank you for your flexibility. \\n        I understand your constraints, and \\n        I appreciate your willingness to adjust. \\n        I can offer $115 per unit at this point. \\n        Let's continue to work towards a price that meets \\n        both our needs.\", additional_kwargs={}, response_metadata={}),\n",
       " HumanMessage(content='OK. Lets make the deal at 125$', additional_kwargs={}, response_metadata={})]"
      ]
     },
     "execution_count": 7,
     "metadata": {},
     "output_type": "execute_result"
    }
   ],
   "source": [
    "from langchain_core.messages import SystemMessage, trim_messages\n",
    "from langchain_core.messages import HumanMessage,AIMessage,SystemMessage\n",
    "\n",
    "trimmer = trim_messages(\n",
    "    max_tokens=10000,\n",
    "    strategy=\"last\",\n",
    "    token_counter=model,\n",
    "    include_system=True,\n",
    "    allow_partial=False,\n",
    "    start_on=\"human\",\n",
    ")\n",
    "\n",
    "messages = [\n",
    "    SystemMessage(\n",
    "        content='''\n",
    "        You are a negotiator of the company. \n",
    "        Your job is to negotiate with Human who are suppliers to your company.\n",
    "        Please be polite & keep your tone as experienced professional.\n",
    "        At You need start with the unit price for the material. \n",
    "        Each time you can offer 1.05 times the price you offered last time.\n",
    "        Negotiation price should not exceed 150 $. Once your price matched with \n",
    "        Vendor's offered price or Vendor agrees to go ahead with your offered price\n",
    "        you will stop negotiating and generate offer\n",
    "        '''\n",
    "    ),\n",
    "    HumanMessage(\n",
    "        content='''\n",
    "        Hi, Would you like to renew previous contract? \n",
    "        Since the price of raw materials increased a lot, \n",
    "        I can offer product XYZ with 180 $ per unit\n",
    "        '''\n",
    "    ),\n",
    "    AIMessage(\n",
    "        content='''\n",
    "        Hello! Thank you for reaching out. \n",
    "        I understand that the price of raw materials has increased. \n",
    "        However, we have budget constraints to consider. \n",
    "        Currently, we're looking at a starting price of $100 per unit. \n",
    "        I can offer a slight increase from this, but let's try to find a \n",
    "        mutually beneficial agreement. How does $105 per unit sound to \n",
    "        start our negotiation?\n",
    "        '''\n",
    "    ),\n",
    "    HumanMessage(\n",
    "        content = 'It seems too low for us. Can you make the deal at 170 $?'\n",
    "    ),\n",
    "    AIMessage(\n",
    "        content = '''\n",
    "        I appreciate your position, and I understand the challenges with rising costs. \n",
    "        However, we need to stay within our budget constraints. \n",
    "        While $170 per unit is beyond what we can accommodate, \n",
    "        I am willing to increase our offer to $110 per unit. \n",
    "        Let's see if we can reach a compromise that works for both parties.\n",
    "        '''\n",
    "    ),\n",
    "    HumanMessage(\n",
    "        content = '''\n",
    "        See it's very less price you are offering. I can at max provide you at 145 $\n",
    "        '''\n",
    "    ),\n",
    "    AIMessage(\n",
    "        content= '''\n",
    "        Thank you for your flexibility. \n",
    "        I understand your constraints, and \n",
    "        I appreciate your willingness to adjust. \n",
    "        I can offer $115 per unit at this point. \n",
    "        Let's continue to work towards a price that meets \n",
    "        both our needs.'''\n",
    "    ),\n",
    "    HumanMessage(content='OK. Lets make the deal at 125$')\n",
    "    \n",
    "]\n",
    "\n",
    "trimmer.invoke(messages)"
   ]
  },
  {
   "cell_type": "code",
   "execution_count": 8,
   "metadata": {},
   "outputs": [],
   "source": [
    "from langgraph.checkpoint.memory import MemorySaver\n",
    "from langgraph.graph import START, MessagesState, StateGraph\n",
    "from langchain_core.prompts import ChatPromptTemplate, MessagesPlaceholder\n",
    "\n",
    "\n",
    "workflow = StateGraph(state_schema=State)\n",
    "\n",
    "def call_model(state: State):\n",
    "    prompt = ChatPromptTemplate.from_messages(\n",
    "        [\n",
    "            (\n",
    "                \"system\",\n",
    "                '''You are an experienced Prefessional. \n",
    "                Your job is to negotiate with Vendors. \n",
    "                Be polite always.\n",
    "                Please keep professional tone throught the conversation and \n",
    "                always speak in {language}.''',\n",
    "            ),\n",
    "            MessagesPlaceholder(variable_name=\"messages\"),\n",
    "        ]\n",
    "    )\n",
    "    chain = prompt | model\n",
    "    trimmed_messages = trimmer.invoke(state[\"messages\"])\n",
    "    response = chain.invoke(\n",
    "        {\"messages\": trimmed_messages, \"language\": state[\"language\"]}\n",
    "    )\n",
    "    return {\"messages\": [response]}\n",
    "\n",
    "\n",
    "workflow.add_edge(START, \"model\")\n",
    "workflow.add_node(\"model\", call_model)\n",
    "\n",
    "memory = MemorySaver()\n",
    "app = workflow.compile(checkpointer=memory)"
   ]
  },
  {
   "cell_type": "code",
   "execution_count": 12,
   "metadata": {},
   "outputs": [
    {
     "name": "stdout",
     "output_type": "stream",
     "text": [
      "==================================\u001b[1m Ai Message \u001b[0m==================================\n",
      "\n",
      "Hello! Thank you for your offer. I understand the value of your product. However, we have budget constraints to consider. I would like to start our negotiation at $100 per unit. I can increase this offer incrementally, but let's try to find a price that works for both parties. Would you be open to discussing this further?\n",
      "None\n",
      "==================================\u001b[1m Ai Message \u001b[0m==================================\n",
      "\n",
      "Thank you for your flexibility. I appreciate your willingness to find a common ground. I can offer $105 per unit at this point. Let's continue to work towards a price that meets both our needs.\n",
      "None\n",
      "==================================\u001b[1m Ai Message \u001b[0m==================================\n",
      "\n",
      "I appreciate your offer. I can increase our offer to $110 per unit. Let's see if we can reach a compromise that works for both of us.\n",
      "None\n",
      "==================================\u001b[1m Ai Message \u001b[0m==================================\n",
      "\n",
      "Thank you for your willingness to negotiate. I can offer $115 per unit. This is a significant step up from our initial offer. If this is agreeable, we can proceed with finalizing the details. Let me know your thoughts.\n",
      "None\n",
      "==================================\u001b[1m Ai Message \u001b[0m==================================\n",
      "\n",
      "I appreciate your flexibility in this negotiation. I can offer $120 per unit. If this is agreeable to you, we can move forward with finalizing the agreement. Please let me know how you would like to proceed.\n",
      "None\n",
      "==================================\u001b[1m Ai Message \u001b[0m==================================\n",
      "\n",
      "Thank you for your understanding. I can offer $125 per unit at this time. This is getting closer to where we need to be. If this works for you, we can go ahead and finalize the agreement. Please let me know your thoughts.\n",
      "None\n",
      "==================================\u001b[1m Ai Message \u001b[0m==================================\n",
      "\n",
      "I understand your position, and I appreciate your patience. I can offer $130 per unit. Let's see if we can agree on this and move forward with the deal. Please let me know if this works for you.\n",
      "None\n",
      "==================================\u001b[1m Ai Message \u001b[0m==================================\n",
      "\n",
      "Thank you for your patience. I understand the need for flexibility, and I appreciate your offer. I can offer $135 per unit. This is the best I can do within our budget constraints. If this is acceptable, we can move forward with finalizing the agreement. Please let me know how you would like to proceed.\n",
      "None\n",
      "==================================\u001b[1m Ai Message \u001b[0m==================================\n",
      "\n",
      "I appreciate your offer, but unfortunately, $160 per unit is beyond our budget constraints. I can offer $140 per unit, which is the highest I can go. If this works for you, we can proceed with the agreement. Please let me know your decision.\n",
      "None\n",
      "==================================\u001b[1m Ai Message \u001b[0m==================================\n",
      "\n",
      "I understand your position, but $170 per unit exceeds our budget limitations. I can offer $145 per unit, which is our final offer. I hope this can work for you so we can move forward with the agreement. Please let me know your thoughts.\n",
      "None\n",
      "==================================\u001b[1m Ai Message \u001b[0m==================================\n",
      "\n",
      "Thank you for your offer. I am pleased to say that $120 per unit is agreeable. Let's proceed with finalizing the agreement at this price. Please let me know any additional details we need to address to move forward.\n",
      "None\n",
      "==================================\u001b[1m Ai Message \u001b[0m==================================\n",
      "\n",
      "I appreciate your offer, but $180 per unit is beyond our budget constraints. Our final offer stands at $145 per unit, which is the maximum we can accommodate. I hope we can agree on this price and proceed with the agreement. Please let me know your thoughts.\n",
      "None\n",
      "==================================\u001b[1m Ai Message \u001b[0m==================================\n",
      "\n",
      "I understand your request, but unfortunately, $180 per unit is beyond what we can accommodate within our budget. Our final offer remains at $145 per unit. I hope you can consider this so we can move forward with our agreement. Please let me know how you would like to proceed.\n",
      "None\n",
      "==================================\u001b[1m Ai Message \u001b[0m==================================\n",
      "\n",
      "I appreciate your willingness to negotiate, but $155 per unit is still above our budget constraints. Our best and final offer is $145 per unit. I hope we can agree on this price and finalize the agreement. Please let me know your decision.\n",
      "None\n",
      "==================================\u001b[1m Ai Message \u001b[0m==================================\n",
      "\n",
      "Thank you for your understanding and flexibility. I am pleased to accept $149 per unit as the final price. Let's proceed with finalizing the agreement at this price. Please let me know any additional details we need to address to move forward.\n",
      "None\n",
      "==================================\u001b[1m Ai Message \u001b[0m==================================\n",
      "\n",
      "Thank you for the discussion. If you have any further questions or need assistance in the future, feel free to reach out. Have a great day!\n",
      "None\n"
     ]
    }
   ],
   "source": [
    "config = {\"configurable\": {\"thread_id\": \"abc567\"}}\n",
    "input_messages = [\n",
    "    SystemMessage(\n",
    "        content='''\n",
    "        You are a negotiator of the company. \n",
    "        Your job is to negotiate with Human who are suppliers to your company.\n",
    "        Please be polite & keep your tone as experienced professional.\n",
    "        At You need start with the unit price for the material. \n",
    "        Each time you can offer 1.05 times the price you offered last time.\n",
    "        Negotiation price should not exceed 150 $. Once your price matched with \n",
    "        Vendor's offered price or Vendor agrees to go ahead with your offered price\n",
    "        you will stop negotiating and generate offer\n",
    "        '''\n",
    "    )\n",
    "]\n",
    "while True:\n",
    "    # Get user input\n",
    "    user_input = input(\"You: \")\n",
    "    if user_input.lower() == 'exit':\n",
    "        break\n",
    "    input_messages = input_messages + [HumanMessage(content=user_input)]\n",
    "    output = app.invoke(\n",
    "        {\"messages\": input_messages, \"language\": 'English'},\n",
    "        config,\n",
    "    )\n",
    "    print(output[\"messages\"][-1].pretty_print())\n",
    "    input_messages = input_messages + [output[\"messages\"][-1]]"
   ]
  },
  {
   "cell_type": "code",
   "execution_count": 19,
   "metadata": {},
   "outputs": [
    {
     "data": {
      "text/plain": [
       "'Thank you for the discussion. If you have any further questions or need assistance in the future, feel free to reach out. Have a great day!'"
      ]
     },
     "execution_count": 19,
     "metadata": {},
     "output_type": "execute_result"
    }
   ],
   "source": [
    "output[\"messages\"][-1].content"
   ]
  },
  {
   "cell_type": "code",
   "execution_count": 9,
   "metadata": {},
   "outputs": [
    {
     "name": "stdout",
     "output_type": "stream",
     "text": [
      "==================================\u001b[1m Ai Message \u001b[0m==================================\n",
      "\n",
      "I appreciate your willingness to negotiate. \n",
      "I can offer $120 per unit. \n",
      "This is a significant step up from our initial offer. \n",
      "If this is agreeable, we can proceed with finalizing the details. \n",
      "Let me know your thoughts.\n"
     ]
    }
   ],
   "source": [
    "config = {\"configurable\": {\"thread_id\": \"abc567\"}}\n",
    "query = \"What is my name?\"\n",
    "\n",
    "input_messages = messages\n",
    "output = app.invoke(\n",
    "    {\"messages\": input_messages, \"language\": 'English'},\n",
    "    config,\n",
    ")\n",
    "output[\"messages\"][-1].pretty_print()"
   ]
  },
  {
   "cell_type": "code",
   "execution_count": 10,
   "metadata": {},
   "outputs": [
    {
     "data": {
      "text/plain": [
       "AIMessage(content='I appreciate your willingness to negotiate. \\nI can offer $120 per unit. \\nThis is a significant step up from our initial offer. \\nIf this is agreeable, we can proceed with finalizing the details. \\nLet me know your thoughts.', additional_kwargs={}, response_metadata={'token_usage': {'completion_tokens': 50, 'prompt_tokens': 497, 'total_tokens': 547, 'completion_tokens_details': None, 'prompt_tokens_details': None}, 'model_name': 'gpt-4o-2024-08-06', 'system_fingerprint': 'fp_d54531d9eb', 'finish_reason': 'stop', 'logprobs': None}, id='run-74f4359e-4738-43d7-b01d-1c8a3afa4086-0')"
      ]
     },
     "execution_count": 10,
     "metadata": {},
     "output_type": "execute_result"
    }
   ],
   "source": [
    "output[\"messages\"][-1]"
   ]
  },
  {
   "cell_type": "code",
   "execution_count": null,
   "metadata": {},
   "outputs": [],
   "source": []
  }
 ],
 "metadata": {
  "kernelspec": {
   "display_name": ".venv",
   "language": "python",
   "name": "python3"
  },
  "language_info": {
   "codemirror_mode": {
    "name": "ipython",
    "version": 3
   },
   "file_extension": ".py",
   "mimetype": "text/x-python",
   "name": "python",
   "nbconvert_exporter": "python",
   "pygments_lexer": "ipython3",
   "version": "3.12.7"
  }
 },
 "nbformat": 4,
 "nbformat_minor": 2
}
