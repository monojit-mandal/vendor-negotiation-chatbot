{
 "cells": [
  {
   "cell_type": "code",
   "execution_count": 6,
   "metadata": {},
   "outputs": [
    {
     "data": {
      "text/plain": [
       "True"
      ]
     },
     "execution_count": 6,
     "metadata": {},
     "output_type": "execute_result"
    }
   ],
   "source": [
    "from langchain.chat_models import AzureChatOpenAI\n",
    "from langchain.prompts import PromptTemplate\n",
    "from langchain.chains import LLMChain\n",
    "import os\n",
    "from dotenv import load_dotenv\n",
    "load_dotenv()"
   ]
  },
  {
   "cell_type": "code",
   "execution_count": 7,
   "metadata": {},
   "outputs": [],
   "source": [
    "llm = AzureChatOpenAI(\n",
    "    deployment_name= \"gpt-4o\",\n",
    "    api_key=os.getenv('AZURE_OPENAI_API_KEY'),\n",
    "    api_version=\"2023-09-15-preview\",\n",
    "    azure_endpoint=\"https://acsstscdamoai02.openai.azure.com/\"\n",
    ")"
   ]
  },
  {
   "cell_type": "code",
   "execution_count": 8,
   "metadata": {},
   "outputs": [
    {
     "data": {
      "text/plain": [
       "AIMessage(content='Hi Bob! How can I assist you today?', additional_kwargs={}, response_metadata={'token_usage': {'completion_tokens': 10, 'prompt_tokens': 11, 'total_tokens': 21, 'completion_tokens_details': None, 'prompt_tokens_details': None}, 'model_name': 'gpt-4o-2024-05-13', 'system_fingerprint': 'fp_04751d0b65', 'finish_reason': 'stop', 'logprobs': None}, id='run-21b36b52-0824-40d2-b0d6-e0036ce1156e-0')"
      ]
     },
     "execution_count": 8,
     "metadata": {},
     "output_type": "execute_result"
    }
   ],
   "source": [
    "from langchain_core.messages import HumanMessage\n",
    "llm.invoke([HumanMessage(content=\"Hi! I'm Bob\")])"
   ]
  },
  {
   "cell_type": "code",
   "execution_count": 12,
   "metadata": {},
   "outputs": [
    {
     "name": "stdout",
     "output_type": "stream",
     "text": [
      "After Column Replacement: 0.25(0.1pl.col('CU')+0.5pl.col('NI')+0.6pl.col('CR')+0.7pl.col('MO'))+0.8pl.col('SN')\n",
      "After Adding * Before (: 0.25*(0.1pl.col('CU')+0.5pl.col('NI')+0.6pl.col('CR')+0.7pl.col('MO'))+0.8pl.col('SN')\n",
      "After Adding * Between Parentheses and pl.col: 0.25*(0.1pl.col('CU')+0.5pl.col('NI')+0.6pl.col('CR')+0.7pl.col('MO'))+0.8pl.col('SN')\n",
      "After Adding * Between Numbers and pl.col: 0.25*(0.1*pl.col('CU')+0.5*pl.col('NI')+0.6*pl.col('CR')+0.7*pl.col('MO'))+0.8*pl.col('SN')\n",
      "Final Output: 0.25*(0.1*pl.col('CU')+0.5*pl.col('NI')+0.6*pl.col('CR')+0.7*pl.col('MO'))+0.8*pl.col('SN')\n"
     ]
    }
   ],
   "source": [
    "import re\n",
    "\n",
    "def convert_to_polars_expr(input_str):\n",
    "    # Step 1: Replace uppercase column names with `pl.col(...)`\n",
    "    def replace_col(match):\n",
    "        return f\"pl.col('{match.group(0)}')\"\n",
    "\n",
    "    # Match uppercase variable names precisely\n",
    "    replaced_str = re.sub(r'([A-Z]{1,2})', replace_col, input_str)\n",
    "    print(f\"After Column Replacement: {replaced_str}\")\n",
    "\n",
    "    # Step 2: Add multiplication where necessary\n",
    "    replaced_str = re.sub(r'(\\d)(\\()', r'\\1*(', replaced_str)  # Between number and '('\n",
    "    print(f\"After Adding * Before (: {replaced_str}\")\n",
    "    \n",
    "    replaced_str = re.sub(r'\\)(pl\\.col)', r')*\\1', replaced_str)  # ')' before `pl.col`\n",
    "    print(f\"After Adding * Between Parentheses and pl.col: {replaced_str}\")\n",
    "    \n",
    "    replaced_str = re.sub(r'(\\d)(pl\\.col)', r'\\1*\\2', replaced_str)  # Number before `pl.col`\n",
    "    print(f\"After Adding * Between Numbers and pl.col: {replaced_str}\")\n",
    "    \n",
    "    return replaced_str\n",
    "\n",
    "# Example usage\n",
    "input_expr = '0.25(0.1CU+0.5NI+0.6CR+0.7MO)+0.8SN'\n",
    "output_expr = convert_to_polars_expr(input_expr)\n",
    "print(f\"Final Output: {output_expr}\")\n"
   ]
  }
 ],
 "metadata": {
  "kernelspec": {
   "display_name": ".venv",
   "language": "python",
   "name": "python3"
  },
  "language_info": {
   "codemirror_mode": {
    "name": "ipython",
    "version": 3
   },
   "file_extension": ".py",
   "mimetype": "text/x-python",
   "name": "python",
   "nbconvert_exporter": "python",
   "pygments_lexer": "ipython3",
   "version": "3.12.8"
  }
 },
 "nbformat": 4,
 "nbformat_minor": 2
}
