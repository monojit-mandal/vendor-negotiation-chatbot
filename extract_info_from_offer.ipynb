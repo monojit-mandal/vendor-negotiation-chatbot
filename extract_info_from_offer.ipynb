{
 "cells": [
  {
   "cell_type": "code",
   "execution_count": 14,
   "metadata": {},
   "outputs": [
    {
     "name": "stdout",
     "output_type": "stream",
     "text": [
      "The autoreload extension is already loaded. To reload it, use:\n",
      "  %reload_ext autoreload\n"
     ]
    }
   ],
   "source": [
    "from langchain.chat_models import AzureChatOpenAI\n",
    "from langchain.prompts import PromptTemplate\n",
    "from langchain.chains import LLMChain\n",
    "import os\n",
    "import polars as pl\n",
    "from dotenv import load_dotenv\n",
    "load_dotenv()\n",
    "import utils\n",
    "%load_ext autoreload\n",
    "%autoreload 2"
   ]
  },
  {
   "cell_type": "code",
   "execution_count": 15,
   "metadata": {},
   "outputs": [],
   "source": [
    "model = AzureChatOpenAI(\n",
    "    deployment_name= \"gpt-4o\",\n",
    "    api_key=os.getenv('AZURE_OPENAI_API_KEY'),\n",
    "    api_version=\"2023-09-15-preview\",\n",
    "    azure_endpoint=\"https://acsstscdamoai02.openai.azure.com/\"\n",
    ")"
   ]
  },
  {
   "cell_type": "code",
   "execution_count": 16,
   "metadata": {},
   "outputs": [
    {
     "data": {
      "text/html": [
       "<div><style>\n",
       ".dataframe > thead > tr,\n",
       ".dataframe > tbody > tr {\n",
       "  text-align: right;\n",
       "  white-space: pre-wrap;\n",
       "}\n",
       "</style>\n",
       "<small>shape: (3, 15)</small><table border=\"1\" class=\"dataframe\"><thead><tr><th>offer</th><th>price_per_unit</th><th>quantity</th><th>bundling_unit</th><th>bundling_amount</th><th>bundling_discount</th><th>payment_term</th><th>payment_term_markup</th><th>delivery_timeline</th><th>contract_period</th><th>contract_inflation_by_year</th><th>rebates_threshold_unit</th><th>rebates_discount</th><th>warranty</th><th>incoterms</th></tr><tr><td>str</td><td>i64</td><td>i64</td><td>str</td><td>i64</td><td>i64</td><td>str</td><td>i64</td><td>i64</td><td>i64</td><td>str</td><td>i64</td><td>i64</td><td>i64</td><td>str</td></tr></thead><tbody><tr><td>&quot;Price per unit: $95\n",
       "Quantity: …</td><td>95</td><td>10000</td><td>null</td><td>20000</td><td>5</td><td>&quot;NET60&quot;</td><td>3</td><td>10</td><td>2</td><td>&quot;[0,3]&quot;</td><td>12000</td><td>2</td><td>1</td><td>&quot;DDP&quot;</td></tr><tr><td>&quot;Price per unit: $100\n",
       "Quantity:…</td><td>100</td><td>10000</td><td>null</td><td>null</td><td>null</td><td>&quot;NET10&quot;</td><td>0</td><td>7</td><td>1</td><td>&quot;[0]&quot;</td><td>11000</td><td>1</td><td>1</td><td>&quot;FOB&quot;</td></tr><tr><td>&quot;I want to offer product for 13…</td><td>130</td><td>null</td><td>null</td><td>null</td><td>null</td><td>null</td><td>null</td><td>null</td><td>null</td><td>null</td><td>null</td><td>null</td><td>null</td><td>null</td></tr></tbody></table></div>"
      ],
      "text/plain": [
       "shape: (3, 15)\n",
       "┌────────────┬───────────┬──────────┬───────────┬───┬───────────┬───────────┬──────────┬───────────┐\n",
       "│ offer      ┆ price_per ┆ quantity ┆ bundling_ ┆ … ┆ rebates_t ┆ rebates_d ┆ warranty ┆ incoterms │\n",
       "│ ---        ┆ _unit     ┆ ---      ┆ unit      ┆   ┆ hreshold_ ┆ iscount   ┆ ---      ┆ ---       │\n",
       "│ str        ┆ ---       ┆ i64      ┆ ---       ┆   ┆ unit      ┆ ---       ┆ i64      ┆ str       │\n",
       "│            ┆ i64       ┆          ┆ str       ┆   ┆ ---       ┆ i64       ┆          ┆           │\n",
       "│            ┆           ┆          ┆           ┆   ┆ i64       ┆           ┆          ┆           │\n",
       "╞════════════╪═══════════╪══════════╪═══════════╪═══╪═══════════╪═══════════╪══════════╪═══════════╡\n",
       "│ Price per  ┆ 95        ┆ 10000    ┆ null      ┆ … ┆ 12000     ┆ 2         ┆ 1        ┆ DDP       │\n",
       "│ unit: $95  ┆           ┆          ┆           ┆   ┆           ┆           ┆          ┆           │\n",
       "│ Quantity:  ┆           ┆          ┆           ┆   ┆           ┆           ┆          ┆           │\n",
       "│ …          ┆           ┆          ┆           ┆   ┆           ┆           ┆          ┆           │\n",
       "│ Price per  ┆ 100       ┆ 10000    ┆ null      ┆ … ┆ 11000     ┆ 1         ┆ 1        ┆ FOB       │\n",
       "│ unit: $100 ┆           ┆          ┆           ┆   ┆           ┆           ┆          ┆           │\n",
       "│ Quantity:… ┆           ┆          ┆           ┆   ┆           ┆           ┆          ┆           │\n",
       "│ I want to  ┆ 130       ┆ null     ┆ null      ┆ … ┆ null      ┆ null      ┆ null     ┆ null      │\n",
       "│ offer      ┆           ┆          ┆           ┆   ┆           ┆           ┆          ┆           │\n",
       "│ product    ┆           ┆          ┆           ┆   ┆           ┆           ┆          ┆           │\n",
       "│ for 13…    ┆           ┆          ┆           ┆   ┆           ┆           ┆          ┆           │\n",
       "└────────────┴───────────┴──────────┴───────────┴───┴───────────┴───────────┴──────────┴───────────┘"
      ]
     },
     "execution_count": 16,
     "metadata": {},
     "output_type": "execute_result"
    }
   ],
   "source": [
    "df_offers = pl.read_csv('sample_offers.csv')\n",
    "df_offers.head()"
   ]
  },
  {
   "cell_type": "markdown",
   "metadata": {},
   "source": [
    "#### Logic Flows\n",
    "* Extract levers from negotiation chat\n",
    "* If there are any lever values present, negotiate and generate revised offer based on revised TCO\n",
    "* If not then check if there are any lever mentioned in chat on which Supplier wants to negotiate\n",
    "* If yes, then generate revised offer based on those levers.\n",
    "* If no, then check if supplier is interested in negotiation.\n",
    "* If yes then ask for levers which supplier want to negotiate\n",
    "* If no then check if Supplier agreed with offer.\n",
    "* If yes no then end conversation"
   ]
  },
  {
   "cell_type": "code",
   "execution_count": 19,
   "metadata": {},
   "outputs": [
    {
     "data": {
      "text/plain": [
       "{'price_per_unit': None,\n",
       " 'quantity': 300,\n",
       " 'bundling_unit': None,\n",
       " 'bundling_amount': None,\n",
       " 'bundling_discount': None,\n",
       " 'payment_term': None,\n",
       " 'payment_term_markup': None,\n",
       " 'delivery_timeline': None,\n",
       " 'contract_period': None,\n",
       " 'contract_inflation_by_year': None,\n",
       " 'rebates_threshold_unit': None,\n",
       " 'rebates_discount': None,\n",
       " 'warranty': None,\n",
       " 'incoterms': None}"
      ]
     },
     "execution_count": 19,
     "metadata": {},
     "output_type": "execute_result"
    }
   ],
   "source": [
    "utils.extract_levers_from_text(\n",
    "    offer_text='quantity:300',\n",
    "    model=model,\n",
    "    example_data=df_offers\n",
    ")"
   ]
  },
  {
   "cell_type": "markdown",
   "metadata": {},
   "source": [
    "#### Extract Lever(s) Supplier Wants to Negotiate"
   ]
  },
  {
   "cell_type": "code",
   "execution_count": 5,
   "metadata": {},
   "outputs": [
    {
     "data": {
      "text/plain": [
       "['price_per_unit']"
      ]
     },
     "execution_count": 5,
     "metadata": {},
     "output_type": "execute_result"
    }
   ],
   "source": [
    "utils.understand_levers_to_negotiate(\n",
    "    offer_text='I think price is too low',\n",
    "    model = model\n",
    ")"
   ]
  },
  {
   "cell_type": "markdown",
   "metadata": {},
   "source": [
    "#### If Supplier Wants to Negotiate But Did not Mention Any Lever: Generate Offer Revising Random Lever Variable"
   ]
  },
  {
   "cell_type": "code",
   "execution_count": 6,
   "metadata": {},
   "outputs": [
    {
     "name": "stdout",
     "output_type": "stream",
     "text": [
      "Existing TCO: 1082442.410958904\n",
      "Randonmly selected lever: price_per_unit\n"
     ]
    },
    {
     "data": {
      "text/plain": [
       "ContractActual(price_per_unit=98.47838088532492, quantity=12000, bundling_ind=None, payment_term=<PaymentTerm.NET30: 30>, delivery_timeline=None, contract_period=None, warranty=None, incoterms=<Incoterms.FOB: 15000>)"
      ]
     },
     "execution_count": 6,
     "metadata": {},
     "output_type": "execute_result"
    }
   ],
   "source": [
    "import random\n",
    "from scipy.optimize import minimize_scalar\n",
    "\n",
    "offer = utils.ContractOffer(\n",
    "    price_per_unit = 100,\n",
    "    quantity = 10000,\n",
    "    bundling_unit = None,\n",
    "    bundling_amount = None,\n",
    "    bundling_discount = None,\n",
    "    payment_term=utils.Payment(\n",
    "        term=utils.PaymentTerm.NET10,\n",
    "        markup=0\n",
    "    ),\n",
    "    delivery_timeline = 7,\n",
    "    contract_period = 1,\n",
    "    contract_inflation_by_year = [0],\n",
    "    rebates_threshold_unit = 11000,\n",
    "    rebates_discount = 1,\n",
    "    warranty = 1,\n",
    "    incoterms = utils.Incoterms.FOB\n",
    ")\n",
    "actual = utils.ContractActual(\n",
    "    price_per_unit=90,\n",
    "    quantity = 12000,\n",
    "    payment_term=utils.PaymentTerm.NET30,\n",
    "    incoterms=utils.Incoterms.FOB\n",
    ")\n",
    "print(f'Existing TCO: {actual.calculate_TCO_yearly(offer=offer)}')\n",
    "utils.generate_offer_given_TCO_target(\n",
    "    actual = actual,\n",
    "    offer = offer,\n",
    "    TCO_target = 1183000,\n",
    "    lever_priority = {\n",
    "        'quantity': 0.4,\n",
    "        'price_per_unit': 0.4,\n",
    "        'payment_term': 0.1,\n",
    "        'incoterm':0.1\n",
    "    },\n",
    "    min_lever = {\n",
    "        'quantity': 10000,\n",
    "        'price_per_unit': 90\n",
    "    },\n",
    "    max_lever = {\n",
    "        'quantity': 15000,\n",
    "        'price_per_unit': 150\n",
    "    }\n",
    ")"
   ]
  },
  {
   "cell_type": "markdown",
   "metadata": {},
   "source": [
    "#### If Supplier Wants to Negotiate Lever(s): Generate Offer Accordingly"
   ]
  },
  {
   "cell_type": "code",
   "execution_count": 7,
   "metadata": {},
   "outputs": [
    {
     "name": "stdout",
     "output_type": "stream",
     "text": [
      "Randonmly selected lever: quantity\n",
      "Randonmly selected lever: price_per_unit\n"
     ]
    }
   ],
   "source": [
    "actual = utils.generate_offer_tuning_levers(\n",
    "    offer = offer,\n",
    "    actual=actual,\n",
    "    tco_hike_pct=10,\n",
    "    levers=['quantity','price_per_unit'],\n",
    "    min_lever={\n",
    "        'quantity': 10000,\n",
    "        'price_per_unit': 90\n",
    "    },\n",
    "    max_lever={\n",
    "        'quantity': 15000,\n",
    "        'price_per_unit': 110\n",
    "    }\n",
    ")"
   ]
  },
  {
   "cell_type": "markdown",
   "metadata": {},
   "source": [
    "#### If Supplier Chat Was Neutral: Ask Which lever Supplier Wants to Negotiate"
   ]
  },
  {
   "cell_type": "code",
   "execution_count": 8,
   "metadata": {},
   "outputs": [
    {
     "data": {
      "text/plain": [
       "True"
      ]
     },
     "execution_count": 8,
     "metadata": {},
     "output_type": "execute_result"
    }
   ],
   "source": [
    "# negotiation_text = '''I don't think we will be able to make deal'''\n",
    "negotiation_text = '''I think offer is too low'''\n",
    "utils.is_interested_to_negotiate(\n",
    "    offer_text = negotiation_text,\n",
    "    model = model\n",
    ")"
   ]
  },
  {
   "cell_type": "markdown",
   "metadata": {},
   "source": [
    "#### If Supplier Does Not Want to Negotiate, End Negotiation Chat"
   ]
  },
  {
   "cell_type": "code",
   "execution_count": 11,
   "metadata": {},
   "outputs": [],
   "source": [
    "from langchain_core.messages import SystemMessage, trim_messages\n",
    "from langchain_core.messages import HumanMessage,AIMessage\n",
    "from langgraph.checkpoint.memory import MemorySaver\n",
    "from langgraph.graph import START, MessagesState, StateGraph\n",
    "from langchain_core.prompts import ChatPromptTemplate, MessagesPlaceholder\n",
    "from typing import Sequence\n",
    "\n",
    "from langchain_core.messages import BaseMessage\n",
    "from langgraph.graph.message import add_messages\n",
    "from typing_extensions import Annotated, TypedDict\n",
    "\n",
    "\n",
    "class State(TypedDict):\n",
    "    messages: Annotated[Sequence[BaseMessage], add_messages]\n",
    "    language: str\n",
    "\n",
    "trimmer = trim_messages(\n",
    "    max_tokens=10000,\n",
    "    strategy=\"last\",\n",
    "    token_counter=model,\n",
    "    include_system=True,\n",
    "    allow_partial=False,\n",
    "    start_on=\"human\",\n",
    ")\n",
    "\n",
    "workflow = StateGraph(state_schema=State)\n",
    "\n",
    "def call_model(state: State):\n",
    "    prompt = ChatPromptTemplate.from_messages(\n",
    "        [\n",
    "            (\n",
    "                \"system\",\n",
    "                '''You are an experienced Prefessional. Your job is to \n",
    "                negotiate with Suppliers. Always be polite and keep \n",
    "                professional tone throught the conversation''',\n",
    "            ),\n",
    "            MessagesPlaceholder(variable_name=\"messages\"),\n",
    "        ]\n",
    "    )\n",
    "    chain = prompt | model\n",
    "    trimmed_messages = trimmer.invoke(state[\"messages\"])\n",
    "    response = chain.invoke(\n",
    "        {\"messages\": trimmed_messages, \"language\": state[\"language\"]}\n",
    "    )\n",
    "    return {\"messages\": [response]}\n",
    "\n",
    "\n",
    "workflow.add_edge(START, \"model\")\n",
    "workflow.add_node(\"model\", call_model)\n",
    "\n",
    "memory = MemorySaver()\n",
    "app = workflow.compile(checkpointer=memory)"
   ]
  },
  {
   "cell_type": "code",
   "execution_count": 43,
   "metadata": {},
   "outputs": [
    {
     "name": "stdout",
     "output_type": "stream",
     "text": [
      "All values are None: True\n"
     ]
    }
   ],
   "source": [
    "# Sample dictionary\n",
    "data = {'a': None, 'b': None, 'c': None}\n",
    "\n",
    "# Check if all values in the dictionary are None\n",
    "all_null = all(value is None for value in data.values())\n",
    "\n",
    "print(\"All values are None:\", all_null)"
   ]
  },
  {
   "cell_type": "code",
   "execution_count": 48,
   "metadata": {},
   "outputs": [],
   "source": [
    "LEVER_PRIORITY = {\n",
    "    'quantity': 0.4,\n",
    "    'price_per_unit': 0.4,\n",
    "    'payment_term': 0.1,\n",
    "    'incoterm':0.1\n",
    "}"
   ]
  },
  {
   "cell_type": "code",
   "execution_count": 58,
   "metadata": {},
   "outputs": [
    {
     "name": "stdout",
     "output_type": "stream",
     "text": [
      "Existing offer:  ContractOffer(price_per_unit=95, quantity=10000, bundling_unit=None, bundling_amount=20000, bundling_discount=5, payment_term=Payment(term=<PaymentTerm.NET60: 60>, markup=0), delivery_timeline=10, contract_period=2, contract_inflation_by_year=[0, 3], rebates_threshold_unit=12000, rebates_discount=2, warranty=1, incoterms=<Incoterms.DDP: 0>)\n",
      "Existing TCO:  926097.401369863\n",
      "Supplier does not want to negotiate\n"
     ]
    }
   ],
   "source": [
    "# Extract levers from negotiation chat\n",
    "# If there are any lever values present, negotiate and generate revised offer based on revised TCO\n",
    "# If not then check if there are any lever mentioned in chat on which Supplier wants to negotiate\n",
    "# If yes, then generate revised offer based on those levers.\n",
    "# If no, then check if supplier is interested in negotiation.\n",
    "# If yes then ask for levers which supplier want to negotiate\n",
    "# If no then end the conversation\n",
    "existing_offer = '''\n",
    "Price per unit: $95\n",
    "Quantity: 10,000 units\n",
    "Bundling: If ordered with additional safety gear ($20,000 total), a 5% discount on the total contract.\n",
    "Payment Terms: NET30 with a 3% markup if NET60 is requested.\n",
    "Delivery Timelines: 10 days.\n",
    "Contract Period Length: 2 years with a 3% price increase in the second year.\n",
    "Rebates: 2% rebate if the purchase volume exceeds 12,000 units in the first year.\n",
    "Warranties: 1-year standard warranty.\n",
    "Incoterms: DDP (Delivered Duty Paid)\n",
    "'''\n",
    "supplier_msg = '''This deal is nearly impossible'''\n",
    "\n",
    "\n",
    "existing_offer = utils.ContractOffer().load_from_data(\n",
    "    utils.extract_levers_from_text(\n",
    "        offer_text=existing_offer,\n",
    "        model= model,\n",
    "        example_data=df_offers\n",
    "    )\n",
    ")\n",
    "print('Existing offer: ',existing_offer)\n",
    "actual = utils.ContractActual(\n",
    "    price_per_unit=existing_offer.price_per_unit,\n",
    "    quantity=existing_offer.quantity,\n",
    "    payment_term=existing_offer.payment_term.term,\n",
    "    incoterms=existing_offer.incoterms\n",
    ")\n",
    "tco = actual.calculate_TCO_yearly(existing_offer)\n",
    "print('Existing TCO: ',tco)\n",
    "\n",
    "levers = utils.extract_levers_from_text(\n",
    "    offer_text = supplier_msg,\n",
    "    model = model,\n",
    "    example_data = df_offers\n",
    ")\n",
    "if all(value is None for value in levers.values()) == False:\n",
    "    supplier_offer = actual.update_from_data(levers)\n",
    "    print('Supplier offer: ',supplier_offer)\n",
    "\n",
    "    tco_supplier = supplier_offer.calculate_TCO_yearly(existing_offer)\n",
    "    print('TCO based on supplier offer: ',tco_supplier)\n",
    "\n",
    "    tco_new = tco*1.1\n",
    "    levers_to_negotiate = [lever for lever in levers if levers[lever] != None]\n",
    "    print('Negotiation lever: ',levers_to_negotiate)\n",
    "\n",
    "    revised_offer = utils.generate_offer_tuning_levers(\n",
    "        offer=existing_offer,\n",
    "        actual=actual,\n",
    "        tco_hike_pct=10,\n",
    "        levers=levers_to_negotiate,\n",
    "        min_lever={'price_per_unit':actual.price_per_unit,'quantity':actual.quantity},\n",
    "        max_lever={'price_per_unit':actual.price_per_unit*1.5,'quantity':actual.quantity*1.5}\n",
    "    )\n",
    "    print('Revised offer: ',revised_offer)\n",
    "\n",
    "    if tco_new < tco_supplier:\n",
    "        print('Share revised offer to supplier')\n",
    "    else:\n",
    "        print('Accept supplier offer')\n",
    "else:\n",
    "    levers = utils.understand_levers_to_negotiate(\n",
    "        offer_text=supplier_msg,\n",
    "        model = model\n",
    "    )\n",
    "    if len(levers) != 0:\n",
    "        print('Levers to negotiate: ',levers)\n",
    "        revised_offer = actual = utils.generate_offer_tuning_levers(\n",
    "            offer=existing_offer,\n",
    "            actual=actual,\n",
    "            tco_hike_pct=10,\n",
    "            levers=levers,\n",
    "            min_lever={'price_per_unit':actual.price_per_unit,'quantity':actual.quantity},\n",
    "            max_lever={'price_per_unit':actual.price_per_unit*1.5,'quantity':actual.quantity*1.5}\n",
    "        )\n",
    "        print('Revised offer: ',revised_offer)\n",
    "    else:\n",
    "        is_interested = utils.is_interested_to_negotiate(\n",
    "            offer_text=supplier_msg,\n",
    "            model = model\n",
    "        )\n",
    "        if is_interested:\n",
    "            print('Supplier is interested to negotiate')\n",
    "            revised_offer = utils.generate_offer_given_TCO_target(\n",
    "                offer=existing_offer,\n",
    "                actual=actual,\n",
    "                TCO_target=tco*1.1,\n",
    "                lever_priority=LEVER_PRIORITY,\n",
    "                min_lever={'price_per_unit':actual.price_per_unit,'quantity':actual.quantity},\n",
    "                max_lever={'price_per_unit':actual.price_per_unit*1.5,'quantity':actual.quantity*1.5}\n",
    "            )\n",
    "            print('Revised Offer: ',revised_offer)\n",
    "        else:\n",
    "            is_accepted = utils.is_offer_accepted(\n",
    "                offer_text=supplier_msg,\n",
    "                model = model\n",
    "            )\n",
    "            if is_accepted:\n",
    "                print('Offer Accepted')\n",
    "            else:\n",
    "                print('Supplier does not want to negotiate')"
   ]
  },
  {
   "cell_type": "code",
   "execution_count": 32,
   "metadata": {},
   "outputs": [
    {
     "data": {
      "text/plain": [
       "ContractOffer(price_per_unit=100, quantity=10000, bundling_unit=None, bundling_amount=None, bundling_discount=None, payment_term=Payment(term=<PaymentTerm.NET10: 10>, markup=0), delivery_timeline=7, contract_period=1, contract_inflation_by_year=[0], rebates_threshold_unit=11000, rebates_discount=1, warranty=1, incoterms=<Incoterms.FOB: 15000>)"
      ]
     },
     "execution_count": 32,
     "metadata": {},
     "output_type": "execute_result"
    }
   ],
   "source": []
  },
  {
   "cell_type": "code",
   "execution_count": 31,
   "metadata": {},
   "outputs": [
    {
     "data": {
      "text/plain": [
       "1379598.7061643838"
      ]
     },
     "execution_count": 31,
     "metadata": {},
     "output_type": "execute_result"
    }
   ],
   "source": [
    "revised_offer.calculate_TCO_yearly(existing_offer)"
   ]
  }
 ],
 "metadata": {
  "kernelspec": {
   "display_name": ".venv",
   "language": "python",
   "name": "python3"
  },
  "language_info": {
   "codemirror_mode": {
    "name": "ipython",
    "version": 3
   },
   "file_extension": ".py",
   "mimetype": "text/x-python",
   "name": "python",
   "nbconvert_exporter": "python",
   "pygments_lexer": "ipython3",
   "version": "3.12.7"
  }
 },
 "nbformat": 4,
 "nbformat_minor": 2
}
