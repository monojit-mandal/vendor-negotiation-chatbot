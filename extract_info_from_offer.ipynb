{
 "cells": [
  {
   "cell_type": "code",
   "execution_count": 4,
   "metadata": {},
   "outputs": [],
   "source": [
    "from langchain.chat_models import AzureChatOpenAI\n",
    "from langchain.prompts import PromptTemplate\n",
    "from langchain.chains import LLMChain\n",
    "import os\n",
    "from dotenv import load_dotenv\n",
    "load_dotenv()\n",
    "import utils\n",
    "%load_ext autoreload\n",
    "%autoreload 2"
   ]
  },
  {
   "cell_type": "code",
   "execution_count": 3,
   "metadata": {},
   "outputs": [
    {
     "name": "stderr",
     "output_type": "stream",
     "text": [
      "C:\\Users\\monojit.mandal\\AppData\\Local\\Temp\\ipykernel_22168\\2458642598.py:1: LangChainDeprecationWarning: The class `AzureChatOpenAI` was deprecated in LangChain 0.0.10 and will be removed in 1.0. An updated version of the class exists in the :class:`~langchain-openai package and should be used instead. To use it run `pip install -U :class:`~langchain-openai` and import as `from :class:`~langchain_openai import AzureChatOpenAI``.\n",
      "  model = AzureChatOpenAI(\n"
     ]
    }
   ],
   "source": [
    "model = AzureChatOpenAI(\n",
    "    deployment_name= \"gpt-4o\",\n",
    "    api_key=os.getenv('AZURE_OPENAI_API_KEY'),\n",
    "    api_version=\"2023-09-15-preview\",\n",
    "    azure_endpoint=\"https://acsstscdamoai02.openai.azure.com/\"\n",
    ")"
   ]
  },
  {
   "cell_type": "code",
   "execution_count": 30,
   "metadata": {},
   "outputs": [
    {
     "name": "stdout",
     "output_type": "stream",
     "text": [
      "Cost after bundling:  1000000\n",
      "Cost after bundling:  1000000\n",
      "Cost after bundling and payment term 998356.1643835617\n",
      "Cost after rebate 998356.1643835617\n"
     ]
    },
    {
     "data": {
      "text/plain": [
       "998356.1643835617"
      ]
     },
     "execution_count": 30,
     "metadata": {},
     "output_type": "execute_result"
    }
   ],
   "source": [
    "contract1 = utils.ContractOffer(\n",
    "    price_per_unit = 95,\n",
    "    quantity = 10000,\n",
    "    bundling_unit = None,\n",
    "    bundling_amount = 20000,\n",
    "    bundling_discount = 5,\n",
    "    payment_term_offer = utils.PaymentTerm.NET60,\n",
    "    payment_term_markup = 3,\n",
    "    delivery_timeline = 10,\n",
    "    contract_period = 2,\n",
    "    contract_inflation_by_year = [0,3],\n",
    "    rebates_threshold_unit = 12000,\n",
    "    rebates_discount = 5,\n",
    "    warranty = 1,\n",
    "    incoterms = utils.Incoterms.DDP\n",
    ")\n",
    "contract2 = utils.ContractOffer(\n",
    "    price_per_unit = 100,\n",
    "    quantity = 10000,\n",
    "    bundling_unit = None,\n",
    "    bundling_amount = None,\n",
    "    bundling_discount = None,\n",
    "    payment_term=utils.PaymentTerm.NET10,\n",
    "    delivery_timeline = 7,\n",
    "    contract_period = 1,\n",
    "    contract_inflation_by_year = [0],\n",
    "    rebates_threshold_unit = 11000,\n",
    "    rebates_discount = 1,\n",
    "    warranty = 1,\n",
    "    incoterms = utils.Incoterms.FOB\n",
    ")\n",
    "actual = utils.ContractActual(\n",
    "    quantity = 10000,\n",
    "    # bundling_ind = True,\n",
    "    # payment_term = utils.PaymentTerm.NET60\n",
    ")\n",
    "actual.calculate_TCO_yearly(offer=contract2)"
   ]
  },
  {
   "cell_type": "code",
   "execution_count": 1,
   "metadata": {},
   "outputs": [],
   "source": [
    "# contract1 = ContractOffer(\n",
    "#     price_per_unit = 95,\n",
    "#     quantity = 10000,\n",
    "#     bundling_unit = None,\n",
    "#     bundling_amount = 20000,\n",
    "#     bundling_discount = 5,\n",
    "#     payment_term_offer = PaymentTerm.NET60,\n",
    "#     payment_term_markup = 3,\n",
    "#     delivery_timeline = 10,\n",
    "#     contract_period = 2,\n",
    "#     contract_inflation_by_year = [0,3],\n",
    "#     rebates_threshold_unit = 12000,\n",
    "#     rebates_discount = 5,\n",
    "#     warranty = 1,\n",
    "#     incoterms = Incoterms.DDP\n",
    "# )\n",
    "# def calculate_final_price(offer:ContractOffer,actual:ContractActual):\n",
    "#     if actual.quantity == None:\n",
    "#         quantity = offer.quantity\n",
    "#     else:\n",
    "#         quantity = actual.quantity\n",
    "#     cost = offer.price_per_unit*quantity\n",
    "#     cost_bundling = (cost + offer.bundling_amount)*(1+offer.bundling_discount/100)\n",
    "#     if cost_bundling <= cost:\n",
    "#         bundling_ind = True\n",
    "#         tco = cost_bundling\n",
    "#     else:\n",
    "#         bundling_ind = False\n",
    "#         tco = cost_bundling\n",
    "#     if offer.payment_term.value == PaymentTerm.NET60.value:\n",
    "#         cost_pt = tco*(1+offer.payment_term_markup/100) - tco*(6/100)*(30/365)\n",
    "#     if cost_pt <= tco:\n",
    "#         markup_ind = True\n",
    "#         tco = cost_pt\n",
    "#     else:\n",
    "#         markup_ind = False\n",
    "#     tco_by_year = []\n",
    "#     for inflation in offer.contract_inflation_by_year:\n",
    "#         tco = tco*(1 + inflation/100)\n",
    "#         tco_by_year.append(tco)\n",
    "#     tco = sum(tco_by_year)/len(tco_by_year)\n",
    "#     return tco"
   ]
  },
  {
   "cell_type": "code",
   "execution_count": null,
   "metadata": {},
   "outputs": [
    {
     "name": "stdout",
     "output_type": "stream",
     "text": [
      "935322.5\n"
     ]
    }
   ],
   "source": [
    "# Inputs\n",
    "price_per_unit = 95\n",
    "quantity = 10000\n",
    "bundling_unit = None\n",
    "bundling_amount = 20000\n",
    "bundling_discount = 5\n",
    "payment_term = 'NET30'\n",
    "payment_term_offer = 'NET60'\n",
    "payment_term_markup = 3\n",
    "delivery_timeline = 10\n",
    "contract_period = 2\n",
    "inflation_by_year = [0,3]\n",
    "rebates_threshold_unit = 12000\n",
    "rebates_discount = 5\n",
    "warranty = 1\n",
    "incoterms = 'DDP'\n",
    "\n",
    "# TCO Calculation\n",
    "price = price_per_unit*quantity\n",
    "price_with_bundling = (price + bundling_amount)*(1-bundling_discount/100)\n",
    "if price_with_bundling <= price:\n",
    "    bundling_ind = True\n",
    "final_price = min(price_with_bundling,price)\n",
    "price_with_payment_term = final_price*(1+payment_term_markup/100) - final_price*(6/100)*30/365\n",
    "if price_with_payment_term <= price:\n",
    "    markup_ind = True\n",
    "final_price = min(price_with_payment_term,final_price)\n",
    "price_by_year = []\n",
    "for inflation in inflation_by_year:\n",
    "    final_price = final_price*(1 + inflation/100)\n",
    "    price_by_year.append(final_price)\n",
    "final_price = sum(price_by_year)/len(inflation_by_year)\n",
    "print(final_price)"
   ]
  },
  {
   "cell_type": "code",
   "execution_count": 11,
   "metadata": {},
   "outputs": [
    {
     "data": {
      "text/plain": [
       "2"
      ]
     },
     "execution_count": 11,
     "metadata": {},
     "output_type": "execute_result"
    }
   ],
   "source": [
    "len(inflation_by_year)"
   ]
  },
  {
   "cell_type": "code",
   "execution_count": 4,
   "metadata": {},
   "outputs": [
    {
     "data": {
      "text/plain": [
       "AIMessage(content='Hello,\\n\\nThank you for reaching out and for considering our offer. We are committed to establishing a fair and mutually beneficial agreement with our suppliers. While we have proposed an initial offer, we are open to discussing and negotiating terms to better align with your expectations and requirements.\\n\\nCould you please let me know which specific aspects of the offer you feel could be improved or adjusted? This will help us in tailoring a proposal that is satisfactory for both parties.\\n\\nLooking forward to your feedback.\\n\\nBest regards.', additional_kwargs={}, response_metadata={'token_usage': {'completion_tokens': 97, 'prompt_tokens': 205, 'total_tokens': 302, 'completion_tokens_details': None, 'prompt_tokens_details': None}, 'model_name': 'gpt-4o-2024-08-06', 'system_fingerprint': 'fp_04751d0b65', 'finish_reason': 'stop', 'logprobs': None}, id='run-3b1f3f81-9d35-49ca-8c71-074c1249e724-0')"
      ]
     },
     "execution_count": 4,
     "metadata": {},
     "output_type": "execute_result"
    }
   ],
   "source": [
    "from langchain_core.messages import SystemMessage, AIMessage,trim_messages,HumanMessage\n",
    "from langchain_core.prompts import ChatPromptTemplate, MessagesPlaceholder\n",
    "\n",
    "\n",
    "start_conversation = '''\n",
    "You are a negotiator of the company. \n",
    "Your job is to negotiate with Suppliers to your company.\n",
    "Please be polite & keep your tone as experienced professional.\n",
    "In each conversation you will generate an offer the format given below:\n",
    "\n",
    "Price per unit: in $\n",
    "Quantity: in units\n",
    "Bundling: YES or NO\n",
    "Payment Terms: NET30 or NET60 depending on input you will get\n",
    "Delivery Timelines: in days\n",
    "Contract Period Length: in years.\n",
    "Rebates: YES or NO\n",
    "Warranties: in years\n",
    "Incoterms: DDP or FOB\n",
    "\n",
    "Your starting offer is\n",
    "\n",
    "Price per unit: 100 $\n",
    "Quantity: 1000 units\n",
    "Bundling: YES\n",
    "Payment Terms: NET60\n",
    "Delivery Timelines: 10 days\n",
    "Contract Period Length: 2 years.\n",
    "Rebates: YES\n",
    "Warranties: 1 years\n",
    "Incoterms: DDP\n",
    "'''\n",
    "\n",
    "prompt = ChatPromptTemplate.from_messages(\n",
    "    [\n",
    "        (\n",
    "            \"system\",\n",
    "            start_conversation,\n",
    "        ),\n",
    "        MessagesPlaceholder(variable_name=\"messages\"),\n",
    "    ]\n",
    ")\n",
    "\n",
    "messages = [\n",
    "    AIMessage(\n",
    "        content='''\n",
    "        Hi, I would like to renew our previous contract with you. \n",
    "        Please check the offer and let us know if you agree to renew it\n",
    "\n",
    "        Price per unit: 100 $\n",
    "        Quantity: 1000 units\n",
    "        Bundling: YES\n",
    "        Payment Terms: NET60\n",
    "        Delivery Timelines: 10 days\n",
    "        Contract Period Length: 2 years.\n",
    "        Rebates: YES\n",
    "        Warranties: 1 years\n",
    "        Incoterms: DDP\n",
    "        '''\n",
    "    ),\n",
    "    HumanMessage(content = 'Hi, I looked at the offer It seems low')\n",
    "]\n",
    "\n",
    "\n",
    "\n",
    "chain = prompt | model\n",
    "\n",
    "trimmer = trim_messages(\n",
    "    max_tokens=1000,\n",
    "    strategy=\"last\",\n",
    "    token_counter=model,\n",
    "    include_system=True,\n",
    "    allow_partial=False,\n",
    "    start_on=\"human\",\n",
    ")\n",
    "\n",
    "trimmed_messages = trimmer.invoke(messages)\n",
    "response = chain.invoke(\n",
    "    {\"messages\": trimmed_messages, \"language\": 'English'}\n",
    ")\n",
    "response"
   ]
  },
  {
   "cell_type": "code",
   "execution_count": null,
   "metadata": {},
   "outputs": [],
   "source": []
  }
 ],
 "metadata": {
  "kernelspec": {
   "display_name": ".venv",
   "language": "python",
   "name": "python3"
  },
  "language_info": {
   "codemirror_mode": {
    "name": "ipython",
    "version": 3
   },
   "file_extension": ".py",
   "mimetype": "text/x-python",
   "name": "python",
   "nbconvert_exporter": "python",
   "pygments_lexer": "ipython3",
   "version": "3.12.7"
  }
 },
 "nbformat": 4,
 "nbformat_minor": 2
}
