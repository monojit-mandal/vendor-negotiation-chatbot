{
 "cells": [
  {
   "cell_type": "code",
   "execution_count": 1,
   "metadata": {},
   "outputs": [],
   "source": [
    "import polars as pl\n",
    "import duckdb\n",
    "import utils_database as ud\n",
    "import utils\n",
    "import utils_model as um\n",
    "%load_ext autoreload\n",
    "%autoreload 2"
   ]
  },
  {
   "cell_type": "code",
   "execution_count": 8,
   "metadata": {},
   "outputs": [],
   "source": [
    "# ud.start_session(user_id = 5,material_id=16)"
   ]
  },
  {
   "cell_type": "code",
   "execution_count": 3,
   "metadata": {},
   "outputs": [],
   "source": [
    "# ud.clear_sessions()\n",
    "# ud.clear_messages()\n",
    "# len(ud.list_sessions(user_id=4))"
   ]
  },
  {
   "cell_type": "code",
   "execution_count": 2,
   "metadata": {},
   "outputs": [
    {
     "name": "stderr",
     "output_type": "stream",
     "text": [
      "Could not determine dtype for column 7, falling back to string\n",
      "Could not determine dtype for column 10, falling back to string\n"
     ]
    }
   ],
   "source": [
    "df_suppliers = pl.read_excel(source=\"data/master_data.xlsx\",sheet_name='Users')\n",
    "df_materials = pl.read_excel(source=\"data/master_data.xlsx\",sheet_name='Materials')\n",
    "df_contracts = pl.read_excel(source=\"data/master_data.xlsx\",sheet_name='Contracts')\n",
    "df_sessions = pl.read_excel(source=\"data/master_data.xlsx\",sheet_name='Sessions')"
   ]
  },
  {
   "cell_type": "code",
   "execution_count": 8,
   "metadata": {},
   "outputs": [
    {
     "data": {
      "text/html": [
       "<div><style>\n",
       ".dataframe > thead > tr,\n",
       ".dataframe > tbody > tr {\n",
       "  text-align: right;\n",
       "  white-space: pre-wrap;\n",
       "}\n",
       "</style>\n",
       "<small>shape: (5, 5)</small><table border=\"1\" class=\"dataframe\"><thead><tr><th>session_id</th><th>user_id</th><th>material_id</th><th>start_time</th><th>end_time</th></tr><tr><td>i64</td><td>i64</td><td>i64</td><td>date</td><td>date</td></tr></thead><tbody><tr><td>9</td><td>4</td><td>12</td><td>2025-03-01</td><td>2025-03-01</td></tr><tr><td>10</td><td>4</td><td>13</td><td>2025-03-01</td><td>2025-03-01</td></tr><tr><td>11</td><td>5</td><td>14</td><td>2025-03-01</td><td>2025-03-01</td></tr><tr><td>12</td><td>5</td><td>15</td><td>2025-03-01</td><td>2025-03-01</td></tr><tr><td>13</td><td>5</td><td>16</td><td>2025-03-01</td><td>2025-03-01</td></tr></tbody></table></div>"
      ],
      "text/plain": [
       "shape: (5, 5)\n",
       "┌────────────┬─────────┬─────────────┬────────────┬────────────┐\n",
       "│ session_id ┆ user_id ┆ material_id ┆ start_time ┆ end_time   │\n",
       "│ ---        ┆ ---     ┆ ---         ┆ ---        ┆ ---        │\n",
       "│ i64        ┆ i64     ┆ i64         ┆ date       ┆ date       │\n",
       "╞════════════╪═════════╪═════════════╪════════════╪════════════╡\n",
       "│ 9          ┆ 4       ┆ 12          ┆ 2025-03-01 ┆ 2025-03-01 │\n",
       "│ 10         ┆ 4       ┆ 13          ┆ 2025-03-01 ┆ 2025-03-01 │\n",
       "│ 11         ┆ 5       ┆ 14          ┆ 2025-03-01 ┆ 2025-03-01 │\n",
       "│ 12         ┆ 5       ┆ 15          ┆ 2025-03-01 ┆ 2025-03-01 │\n",
       "│ 13         ┆ 5       ┆ 16          ┆ 2025-03-01 ┆ 2025-03-01 │\n",
       "└────────────┴─────────┴─────────────┴────────────┴────────────┘"
      ]
     },
     "execution_count": 8,
     "metadata": {},
     "output_type": "execute_result"
    }
   ],
   "source": [
    "df_sessions.tail()"
   ]
  },
  {
   "cell_type": "code",
   "execution_count": 4,
   "metadata": {},
   "outputs": [],
   "source": [
    "# df_contracts = df_contracts.with_columns(\n",
    "#     pl.struct([\n",
    "#         'price_per_unit',\n",
    "#         'quantity',\n",
    "#         'bundling_unit',\n",
    "#         'bundling_amount',\n",
    "#         'bundling_discount',\n",
    "#         'payment_term',\n",
    "#         'payment_term_markup',\n",
    "#         'delivery_timeline',\n",
    "#         'contract_period',\n",
    "#         'contract_inflation',\n",
    "#         'rebates_threshold_unit',\n",
    "#         'rebates_discount',\n",
    "#         'warranty',\n",
    "#         'incoterms'\n",
    "#     ])\n",
    "#     .map_elements(\n",
    "#         lambda row: um.levers_to_offer_text(\n",
    "#             price_per_unit = row['price_per_unit'],\n",
    "#             quantity = row['quantity'],\n",
    "#             bundling_unit = row['bundling_unit'],\n",
    "#             bundling_amount = row['bundling_amount'],\n",
    "#             bundling_discount = row['bundling_discount'],\n",
    "#             payment_term = row['payment_term'],\n",
    "#             payment_term_markup = row['payment_term_markup'],\n",
    "#             delivery_timeline = row['delivery_timeline'],\n",
    "#             contract_period = row['contract_period'],\n",
    "#             contract_inflation = row['contract_inflation'],\n",
    "#             rebates_threshold_unit = row['rebates_threshold_unit'],\n",
    "#             rebates_discount = row['rebates_discount'],\n",
    "#             warranty = row['warranty'],\n",
    "#             incoterms = row['incoterms']\n",
    "#         )\n",
    "#     )\n",
    "#     .alias('contract_details')\n",
    "# )\n",
    "# df_contracts.head()"
   ]
  },
  {
   "cell_type": "code",
   "execution_count": 5,
   "metadata": {},
   "outputs": [
    {
     "data": {
      "text/html": [
       "<div><style>\n",
       ".dataframe > thead > tr,\n",
       ".dataframe > tbody > tr {\n",
       "  text-align: right;\n",
       "  white-space: pre-wrap;\n",
       "}\n",
       "</style>\n",
       "<small>shape: (2, 8)</small><table border=\"1\" class=\"dataframe\"><thead><tr><th>material_id</th><th>description</th><th>quantity</th><th>price_per_unit</th><th>min_quantity</th><th>max_quantity</th><th>min_price_per_unit</th><th>max_price_per_unit</th></tr><tr><td>i64</td><td>str</td><td>i64</td><td>i64</td><td>i64</td><td>f64</td><td>i64</td><td>f64</td></tr></thead><tbody><tr><td>1</td><td>&quot;Material 1&quot;</td><td>14548</td><td>149</td><td>14548</td><td>18912.4</td><td>149</td><td>201.15</td></tr><tr><td>2</td><td>&quot;Material 2&quot;</td><td>10144</td><td>104</td><td>10144</td><td>13187.2</td><td>104</td><td>140.4</td></tr></tbody></table></div>"
      ],
      "text/plain": [
       "shape: (2, 8)\n",
       "┌────────────┬────────────┬──────────┬────────────┬────────────┬───────────┬───────────┬───────────┐\n",
       "│ material_i ┆ descriptio ┆ quantity ┆ price_per_ ┆ min_quanti ┆ max_quant ┆ min_price ┆ max_price │\n",
       "│ d          ┆ n          ┆ ---      ┆ unit       ┆ ty         ┆ ity       ┆ _per_unit ┆ _per_unit │\n",
       "│ ---        ┆ ---        ┆ i64      ┆ ---        ┆ ---        ┆ ---       ┆ ---       ┆ ---       │\n",
       "│ i64        ┆ str        ┆          ┆ i64        ┆ i64        ┆ f64       ┆ i64       ┆ f64       │\n",
       "╞════════════╪════════════╪══════════╪════════════╪════════════╪═══════════╪═══════════╪═══════════╡\n",
       "│ 1          ┆ Material 1 ┆ 14548    ┆ 149        ┆ 14548      ┆ 18912.4   ┆ 149       ┆ 201.15    │\n",
       "│ 2          ┆ Material 2 ┆ 10144    ┆ 104        ┆ 10144      ┆ 13187.2   ┆ 104       ┆ 140.4     │\n",
       "└────────────┴────────────┴──────────┴────────────┴────────────┴───────────┴───────────┴───────────┘"
      ]
     },
     "execution_count": 5,
     "metadata": {},
     "output_type": "execute_result"
    }
   ],
   "source": [
    "df_materials.head(2)"
   ]
  },
  {
   "cell_type": "code",
   "execution_count": 3,
   "metadata": {},
   "outputs": [],
   "source": [
    "df_materials = pl.read_excel(source=\"data/master_data.xlsx\",sheet_name='Materials')\n",
    "for material in df_materials.rows(named = True):\n",
    "    material = ud.Material().load_from_data(material)\n",
    "    ud.add_material(material=material)"
   ]
  },
  {
   "cell_type": "code",
   "execution_count": 4,
   "metadata": {},
   "outputs": [],
   "source": [
    "df_suppliers = pl.read_excel(source=\"data/master_data.xlsx\",sheet_name='Users')\n",
    "for user in df_suppliers.rows(named = True):\n",
    "    ud.add_user(username=user['username'],role=user['role'])"
   ]
  },
  {
   "cell_type": "code",
   "execution_count": 5,
   "metadata": {},
   "outputs": [
    {
     "name": "stderr",
     "output_type": "stream",
     "text": [
      "Could not determine dtype for column 7, falling back to string\n",
      "Could not determine dtype for column 10, falling back to string\n"
     ]
    }
   ],
   "source": [
    "df_contracts = pl.read_excel(source=\"data/master_data.xlsx\",sheet_name='Contracts')\n",
    "for contract in df_contracts.rows(named = True):\n",
    "    contract = ud.Contract().load_from_data(contract)\n",
    "    ud.add_contract(contract=contract)"
   ]
  },
  {
   "cell_type": "code",
   "execution_count": 6,
   "metadata": {},
   "outputs": [],
   "source": [
    "# ud.clear_sessions()\n",
    "df_sessions = pl.read_excel(source=\"data/master_data.xlsx\",sheet_name='Sessions')\n",
    "for session in df_sessions.rows(named = True):\n",
    "    session = ud.Session().load_from_data(session)\n",
    "    ud.add_session(session=session)"
   ]
  },
  {
   "cell_type": "code",
   "execution_count": 7,
   "metadata": {},
   "outputs": [
    {
     "data": {
      "text/html": [
       "<div><style>\n",
       ".dataframe > thead > tr,\n",
       ".dataframe > tbody > tr {\n",
       "  text-align: right;\n",
       "  white-space: pre-wrap;\n",
       "}\n",
       "</style>\n",
       "<small>shape: (13, 5)</small><table border=\"1\" class=\"dataframe\"><thead><tr><th>session_id</th><th>user_id</th><th>material_id</th><th>start_time</th><th>end_time</th></tr><tr><td>i32</td><td>i32</td><td>i32</td><td>datetime[μs]</td><td>datetime[μs]</td></tr></thead><tbody><tr><td>1</td><td>2</td><td>2</td><td>2025-03-01 00:00:00</td><td>2025-03-01 00:00:00</td></tr><tr><td>2</td><td>2</td><td>3</td><td>2025-03-01 00:00:00</td><td>2025-03-01 00:00:00</td></tr><tr><td>3</td><td>2</td><td>4</td><td>2025-03-01 00:00:00</td><td>2025-03-01 00:00:00</td></tr><tr><td>4</td><td>2</td><td>1</td><td>2025-03-01 00:00:00</td><td>2025-03-01 00:00:00</td></tr><tr><td>5</td><td>3</td><td>8</td><td>2025-03-01 00:00:00</td><td>2025-03-01 00:00:00</td></tr><tr><td>&hellip;</td><td>&hellip;</td><td>&hellip;</td><td>&hellip;</td><td>&hellip;</td></tr><tr><td>9</td><td>4</td><td>12</td><td>2025-03-01 00:00:00</td><td>2025-03-01 00:00:00</td></tr><tr><td>10</td><td>4</td><td>13</td><td>2025-03-01 00:00:00</td><td>2025-03-01 00:00:00</td></tr><tr><td>11</td><td>5</td><td>14</td><td>2025-03-01 00:00:00</td><td>2025-03-01 00:00:00</td></tr><tr><td>12</td><td>5</td><td>15</td><td>2025-03-01 00:00:00</td><td>2025-03-01 00:00:00</td></tr><tr><td>13</td><td>5</td><td>16</td><td>2025-03-01 00:00:00</td><td>2025-03-01 00:00:00</td></tr></tbody></table></div>"
      ],
      "text/plain": [
       "shape: (13, 5)\n",
       "┌────────────┬─────────┬─────────────┬─────────────────────┬─────────────────────┐\n",
       "│ session_id ┆ user_id ┆ material_id ┆ start_time          ┆ end_time            │\n",
       "│ ---        ┆ ---     ┆ ---         ┆ ---                 ┆ ---                 │\n",
       "│ i32        ┆ i32     ┆ i32         ┆ datetime[μs]        ┆ datetime[μs]        │\n",
       "╞════════════╪═════════╪═════════════╪═════════════════════╪═════════════════════╡\n",
       "│ 1          ┆ 2       ┆ 2           ┆ 2025-03-01 00:00:00 ┆ 2025-03-01 00:00:00 │\n",
       "│ 2          ┆ 2       ┆ 3           ┆ 2025-03-01 00:00:00 ┆ 2025-03-01 00:00:00 │\n",
       "│ 3          ┆ 2       ┆ 4           ┆ 2025-03-01 00:00:00 ┆ 2025-03-01 00:00:00 │\n",
       "│ 4          ┆ 2       ┆ 1           ┆ 2025-03-01 00:00:00 ┆ 2025-03-01 00:00:00 │\n",
       "│ 5          ┆ 3       ┆ 8           ┆ 2025-03-01 00:00:00 ┆ 2025-03-01 00:00:00 │\n",
       "│ …          ┆ …       ┆ …           ┆ …                   ┆ …                   │\n",
       "│ 9          ┆ 4       ┆ 12          ┆ 2025-03-01 00:00:00 ┆ 2025-03-01 00:00:00 │\n",
       "│ 10         ┆ 4       ┆ 13          ┆ 2025-03-01 00:00:00 ┆ 2025-03-01 00:00:00 │\n",
       "│ 11         ┆ 5       ┆ 14          ┆ 2025-03-01 00:00:00 ┆ 2025-03-01 00:00:00 │\n",
       "│ 12         ┆ 5       ┆ 15          ┆ 2025-03-01 00:00:00 ┆ 2025-03-01 00:00:00 │\n",
       "│ 13         ┆ 5       ┆ 16          ┆ 2025-03-01 00:00:00 ┆ 2025-03-01 00:00:00 │\n",
       "└────────────┴─────────┴─────────────┴─────────────────────┴─────────────────────┘"
      ]
     },
     "execution_count": 7,
     "metadata": {},
     "output_type": "execute_result"
    }
   ],
   "source": [
    "con = duckdb.connect(\"chatbot.duckdb\")\n",
    "df = con.execute(\"\"\"SELECT * FROM Sessions\"\"\").pl()\n",
    "con.close()\n",
    "df"
   ]
  },
  {
   "cell_type": "code",
   "execution_count": 3,
   "metadata": {},
   "outputs": [
    {
     "data": {
      "text/html": [
       "<div><style>\n",
       ".dataframe > thead > tr,\n",
       ".dataframe > tbody > tr {\n",
       "  text-align: right;\n",
       "  white-space: pre-wrap;\n",
       "}\n",
       "</style>\n",
       "<small>shape: (10, 5)</small><table border=\"1\" class=\"dataframe\"><thead><tr><th>session_id</th><th>username</th><th>description</th><th>start_time</th><th>end_time</th></tr><tr><td>i32</td><td>str</td><td>str</td><td>datetime[μs]</td><td>datetime[μs]</td></tr></thead><tbody><tr><td>4</td><td>&quot;abc123&quot;</td><td>&quot;Material 1&quot;</td><td>2025-03-01 00:00:00</td><td>2025-03-01 00:00:00</td></tr><tr><td>1</td><td>&quot;abc123&quot;</td><td>&quot;Material 2&quot;</td><td>2025-03-01 00:00:00</td><td>2025-03-01 00:00:00</td></tr><tr><td>2</td><td>&quot;abc123&quot;</td><td>&quot;Material 3&quot;</td><td>2025-03-01 00:00:00</td><td>2025-03-01 00:00:00</td></tr><tr><td>3</td><td>&quot;abc123&quot;</td><td>&quot;Material 4&quot;</td><td>2025-03-01 00:00:00</td><td>2025-03-01 00:00:00</td></tr><tr><td>5</td><td>&quot;xyz321&quot;</td><td>&quot;Material 8&quot;</td><td>2025-03-01 00:00:00</td><td>2025-03-01 00:00:00</td></tr><tr><td>6</td><td>&quot;xyz321&quot;</td><td>&quot;Material 9&quot;</td><td>2025-03-01 00:00:00</td><td>2025-03-01 00:00:00</td></tr><tr><td>7</td><td>&quot;xyz321&quot;</td><td>&quot;Material 10&quot;</td><td>2025-03-01 00:00:00</td><td>2025-03-01 00:00:00</td></tr><tr><td>8</td><td>&quot;cab312&quot;</td><td>&quot;Material 11&quot;</td><td>2025-03-01 00:00:00</td><td>2025-03-01 00:00:00</td></tr><tr><td>9</td><td>&quot;cab312&quot;</td><td>&quot;Material 12&quot;</td><td>2025-03-01 00:00:00</td><td>2025-03-01 00:00:00</td></tr><tr><td>10</td><td>&quot;cab312&quot;</td><td>&quot;Material 13&quot;</td><td>2025-03-01 00:00:00</td><td>2025-03-01 00:00:00</td></tr></tbody></table></div>"
      ],
      "text/plain": [
       "shape: (10, 5)\n",
       "┌────────────┬──────────┬─────────────┬─────────────────────┬─────────────────────┐\n",
       "│ session_id ┆ username ┆ description ┆ start_time          ┆ end_time            │\n",
       "│ ---        ┆ ---      ┆ ---         ┆ ---                 ┆ ---                 │\n",
       "│ i32        ┆ str      ┆ str         ┆ datetime[μs]        ┆ datetime[μs]        │\n",
       "╞════════════╪══════════╪═════════════╪═════════════════════╪═════════════════════╡\n",
       "│ 4          ┆ abc123   ┆ Material 1  ┆ 2025-03-01 00:00:00 ┆ 2025-03-01 00:00:00 │\n",
       "│ 1          ┆ abc123   ┆ Material 2  ┆ 2025-03-01 00:00:00 ┆ 2025-03-01 00:00:00 │\n",
       "│ 2          ┆ abc123   ┆ Material 3  ┆ 2025-03-01 00:00:00 ┆ 2025-03-01 00:00:00 │\n",
       "│ 3          ┆ abc123   ┆ Material 4  ┆ 2025-03-01 00:00:00 ┆ 2025-03-01 00:00:00 │\n",
       "│ 5          ┆ xyz321   ┆ Material 8  ┆ 2025-03-01 00:00:00 ┆ 2025-03-01 00:00:00 │\n",
       "│ 6          ┆ xyz321   ┆ Material 9  ┆ 2025-03-01 00:00:00 ┆ 2025-03-01 00:00:00 │\n",
       "│ 7          ┆ xyz321   ┆ Material 10 ┆ 2025-03-01 00:00:00 ┆ 2025-03-01 00:00:00 │\n",
       "│ 8          ┆ cab312   ┆ Material 11 ┆ 2025-03-01 00:00:00 ┆ 2025-03-01 00:00:00 │\n",
       "│ 9          ┆ cab312   ┆ Material 12 ┆ 2025-03-01 00:00:00 ┆ 2025-03-01 00:00:00 │\n",
       "│ 10         ┆ cab312   ┆ Material 13 ┆ 2025-03-01 00:00:00 ┆ 2025-03-01 00:00:00 │\n",
       "└────────────┴──────────┴─────────────┴─────────────────────┴─────────────────────┘"
      ]
     },
     "execution_count": 3,
     "metadata": {},
     "output_type": "execute_result"
    }
   ],
   "source": [
    "con = duckdb.connect(\"chatbot.duckdb\")\n",
    "df = con.execute(\"\"\"SELECT ss.session_id, u.username,m.description, ss.start_time, ss.end_time \n",
    "        FROM Sessions ss\n",
    "        LEFT JOIN Users u on ss.user_id = u.user_id\n",
    "        LEFT JOIN Materials m on ss.material_id = m.material_id\n",
    "        order by ss.start_time desc\"\"\").pl()\n",
    "con.close()\n",
    "df"
   ]
  },
  {
   "cell_type": "code",
   "execution_count": 13,
   "metadata": {},
   "outputs": [
    {
     "data": {
      "text/html": [
       "<div><style>\n",
       ".dataframe > thead > tr,\n",
       ".dataframe > tbody > tr {\n",
       "  text-align: right;\n",
       "  white-space: pre-wrap;\n",
       "}\n",
       "</style>\n",
       "<small>shape: (3, 5)</small><table border=\"1\" class=\"dataframe\"><thead><tr><th>session_id</th><th>username</th><th>description</th><th>start_time</th><th>end_time</th></tr><tr><td>i32</td><td>str</td><td>str</td><td>datetime[μs]</td><td>datetime[μs]</td></tr></thead><tbody><tr><td>11</td><td>&quot;monojit&quot;</td><td>&quot;Material 14&quot;</td><td>2025-03-01 00:00:00</td><td>2025-03-01 00:00:00</td></tr><tr><td>12</td><td>&quot;monojit&quot;</td><td>&quot;Material 15&quot;</td><td>2025-03-01 00:00:00</td><td>2025-03-01 00:00:00</td></tr><tr><td>13</td><td>&quot;monojit&quot;</td><td>&quot;Material 16&quot;</td><td>2025-03-01 00:00:00</td><td>2025-03-01 00:00:00</td></tr></tbody></table></div>"
      ],
      "text/plain": [
       "shape: (3, 5)\n",
       "┌────────────┬──────────┬─────────────┬─────────────────────┬─────────────────────┐\n",
       "│ session_id ┆ username ┆ description ┆ start_time          ┆ end_time            │\n",
       "│ ---        ┆ ---      ┆ ---         ┆ ---                 ┆ ---                 │\n",
       "│ i32        ┆ str      ┆ str         ┆ datetime[μs]        ┆ datetime[μs]        │\n",
       "╞════════════╪══════════╪═════════════╪═════════════════════╪═════════════════════╡\n",
       "│ 11         ┆ monojit  ┆ Material 14 ┆ 2025-03-01 00:00:00 ┆ 2025-03-01 00:00:00 │\n",
       "│ 12         ┆ monojit  ┆ Material 15 ┆ 2025-03-01 00:00:00 ┆ 2025-03-01 00:00:00 │\n",
       "│ 13         ┆ monojit  ┆ Material 16 ┆ 2025-03-01 00:00:00 ┆ 2025-03-01 00:00:00 │\n",
       "└────────────┴──────────┴─────────────┴─────────────────────┴─────────────────────┘"
      ]
     },
     "execution_count": 13,
     "metadata": {},
     "output_type": "execute_result"
    }
   ],
   "source": [
    "ud.pull_sessions_by_user('monojit')"
   ]
  },
  {
   "cell_type": "code",
   "execution_count": 14,
   "metadata": {},
   "outputs": [
    {
     "data": {
      "text/plain": [
       "{'contract_id': 2,\n",
       " 'user_id': 1,\n",
       " 'material_id': 2,\n",
       " 'contract_details': None,\n",
       " 'price_per_unit': 104.0,\n",
       " 'quantity': 10144.0,\n",
       " 'bundling_unit': 20288.0,\n",
       " 'bundling_amount': None,\n",
       " 'bundling_discount': 5.0,\n",
       " 'payment_term': 'NET60',\n",
       " 'delivery_timeline': 17.0,\n",
       " 'contract_period': 2.0,\n",
       " 'contract_inflation': 1.0,\n",
       " 'rebates_threshold_unit': 13085.0,\n",
       " 'rebates_discount': 2.0,\n",
       " 'warranty': 1.0,\n",
       " 'incoterms': 'EXW',\n",
       " 'created_at': datetime.datetime(2025, 3, 1, 10, 6, 11, 296000),\n",
       " 'expiry_tmstp': datetime.datetime(2025, 3, 1, 10, 6, 11, 296000)}"
      ]
     },
     "execution_count": 14,
     "metadata": {},
     "output_type": "execute_result"
    }
   ],
   "source": [
    "material = ud.get_material_info(material_id = 2)\n",
    "contract = ud.get_last_contract(user_id=1,material_id=2)\n",
    "MIN_LEVERS = {\n",
    "    'price_per_unit':material['min_price_per_unit'],\n",
    "    'quantity': material['min_quantity']\n",
    "}\n",
    "MAX_LEVERS = {\n",
    "    'price_per_unit':material['max_price_per_unit'],\n",
    "    'quantity': material['max_quantity']\n",
    "}\n",
    "contract"
   ]
  },
  {
   "cell_type": "code",
   "execution_count": null,
   "metadata": {},
   "outputs": [
    {
     "data": {
      "text/plain": [
       "[(4,), (1,), (3,), (2,), (5,)]"
      ]
     },
     "execution_count": 29,
     "metadata": {},
     "output_type": "execute_result"
    }
   ],
   "source": [
    "conn = duckdb.connect('chatbot.duckdb')\n",
    "matrls = ud.list_materials(user_id=1,db_connection=conn)\n",
    "conn.close()"
   ]
  }
 ],
 "metadata": {
  "kernelspec": {
   "display_name": ".venv",
   "language": "python",
   "name": "python3"
  },
  "language_info": {
   "codemirror_mode": {
    "name": "ipython",
    "version": 3
   },
   "file_extension": ".py",
   "mimetype": "text/x-python",
   "name": "python",
   "nbconvert_exporter": "python",
   "pygments_lexer": "ipython3",
   "version": "3.12.9"
  }
 },
 "nbformat": 4,
 "nbformat_minor": 2
}
