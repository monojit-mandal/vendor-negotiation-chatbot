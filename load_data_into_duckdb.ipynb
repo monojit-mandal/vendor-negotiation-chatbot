{
 "cells": [
  {
   "cell_type": "code",
   "execution_count": 1,
   "metadata": {},
   "outputs": [],
   "source": [
    "import polars as pl\n",
    "import duckdb\n",
    "import utils_database as ud\n",
    "import utils\n",
    "import utils_model as um\n",
    "%load_ext autoreload\n",
    "%autoreload 2"
   ]
  },
  {
   "cell_type": "code",
   "execution_count": 8,
   "metadata": {},
   "outputs": [],
   "source": [
    "# ud.start_session(user_id = 5,material_id=16)"
   ]
  },
  {
   "cell_type": "code",
   "execution_count": 3,
   "metadata": {},
   "outputs": [],
   "source": [
    "# ud.clear_sessions()\n",
    "# ud.clear_messages()\n",
    "# len(ud.list_sessions(user_id=4))"
   ]
  },
  {
   "cell_type": "code",
   "execution_count": 2,
   "metadata": {},
   "outputs": [
    {
     "name": "stderr",
     "output_type": "stream",
     "text": [
      "Could not determine dtype for column 7, falling back to string\n",
      "Could not determine dtype for column 10, falling back to string\n"
     ]
    }
   ],
   "source": [
    "df_suppliers = pl.read_excel(source=\"data/master_data.xlsx\",sheet_name='Users')\n",
    "df_materials = pl.read_excel(source=\"data/master_data.xlsx\",sheet_name='Materials')\n",
    "df_contracts = pl.read_excel(source=\"data/master_data.xlsx\",sheet_name='Contracts')\n",
    "df_sessions = pl.read_excel(source=\"data/master_data.xlsx\",sheet_name='Sessions')"
   ]
  },
  {
   "cell_type": "code",
   "execution_count": 3,
   "metadata": {},
   "outputs": [
    {
     "data": {
      "text/html": [
       "<div><style>\n",
       ".dataframe > thead > tr,\n",
       ".dataframe > tbody > tr {\n",
       "  text-align: right;\n",
       "  white-space: pre-wrap;\n",
       "}\n",
       "</style>\n",
       "<small>shape: (5, 14)</small><table border=\"1\" class=\"dataframe\"><thead><tr><th>material_id</th><th>description</th><th>quantity</th><th>price_per_unit</th><th>min_quantity</th><th>max_quantity</th><th>min_price_per_unit</th><th>max_price_per_unit</th><th>min_incoterm</th><th>max_incoterm</th><th>min_delivery_time</th><th>max_delivery_time</th><th>min_payment_term</th><th>max_payment_term</th></tr><tr><td>i64</td><td>str</td><td>i64</td><td>i64</td><td>i64</td><td>f64</td><td>i64</td><td>f64</td><td>str</td><td>str</td><td>i64</td><td>i64</td><td>str</td><td>str</td></tr></thead><tbody><tr><td>13</td><td>&quot;Material 13&quot;</td><td>15436</td><td>103</td><td>15436</td><td>20066.8</td><td>103</td><td>139.05</td><td>&quot;DDP&quot;</td><td>&quot;EXW&quot;</td><td>7</td><td>28</td><td>&quot;NET10&quot;</td><td>&quot;NET90&quot;</td></tr><tr><td>14</td><td>&quot;Material 14&quot;</td><td>10057</td><td>134</td><td>10057</td><td>13074.1</td><td>134</td><td>180.9</td><td>&quot;DDP&quot;</td><td>&quot;EXW&quot;</td><td>7</td><td>28</td><td>&quot;NET10&quot;</td><td>&quot;NET90&quot;</td></tr><tr><td>15</td><td>&quot;Material 15&quot;</td><td>16001</td><td>122</td><td>16001</td><td>20801.3</td><td>122</td><td>164.7</td><td>&quot;DDP&quot;</td><td>&quot;EXW&quot;</td><td>7</td><td>28</td><td>&quot;NET10&quot;</td><td>&quot;NET90&quot;</td></tr><tr><td>16</td><td>&quot;Material 16&quot;</td><td>17589</td><td>100</td><td>17589</td><td>22865.7</td><td>100</td><td>135.0</td><td>&quot;DDP&quot;</td><td>&quot;EXW&quot;</td><td>7</td><td>28</td><td>&quot;NET10&quot;</td><td>&quot;NET90&quot;</td></tr><tr><td>17</td><td>&quot;Material 17&quot;</td><td>16048</td><td>134</td><td>16048</td><td>20862.4</td><td>134</td><td>180.9</td><td>&quot;DDP&quot;</td><td>&quot;EXW&quot;</td><td>7</td><td>28</td><td>&quot;NET10&quot;</td><td>&quot;NET90&quot;</td></tr></tbody></table></div>"
      ],
      "text/plain": [
       "shape: (5, 14)\n",
       "┌───────────┬───────────┬──────────┬───────────┬───┬───────────┬───────────┬───────────┬───────────┐\n",
       "│ material_ ┆ descripti ┆ quantity ┆ price_per ┆ … ┆ min_deliv ┆ max_deliv ┆ min_payme ┆ max_payme │\n",
       "│ id        ┆ on        ┆ ---      ┆ _unit     ┆   ┆ ery_time  ┆ ery_time  ┆ nt_term   ┆ nt_term   │\n",
       "│ ---       ┆ ---       ┆ i64      ┆ ---       ┆   ┆ ---       ┆ ---       ┆ ---       ┆ ---       │\n",
       "│ i64       ┆ str       ┆          ┆ i64       ┆   ┆ i64       ┆ i64       ┆ str       ┆ str       │\n",
       "╞═══════════╪═══════════╪══════════╪═══════════╪═══╪═══════════╪═══════════╪═══════════╪═══════════╡\n",
       "│ 13        ┆ Material  ┆ 15436    ┆ 103       ┆ … ┆ 7         ┆ 28        ┆ NET10     ┆ NET90     │\n",
       "│           ┆ 13        ┆          ┆           ┆   ┆           ┆           ┆           ┆           │\n",
       "│ 14        ┆ Material  ┆ 10057    ┆ 134       ┆ … ┆ 7         ┆ 28        ┆ NET10     ┆ NET90     │\n",
       "│           ┆ 14        ┆          ┆           ┆   ┆           ┆           ┆           ┆           │\n",
       "│ 15        ┆ Material  ┆ 16001    ┆ 122       ┆ … ┆ 7         ┆ 28        ┆ NET10     ┆ NET90     │\n",
       "│           ┆ 15        ┆          ┆           ┆   ┆           ┆           ┆           ┆           │\n",
       "│ 16        ┆ Material  ┆ 17589    ┆ 100       ┆ … ┆ 7         ┆ 28        ┆ NET10     ┆ NET90     │\n",
       "│           ┆ 16        ┆          ┆           ┆   ┆           ┆           ┆           ┆           │\n",
       "│ 17        ┆ Material  ┆ 16048    ┆ 134       ┆ … ┆ 7         ┆ 28        ┆ NET10     ┆ NET90     │\n",
       "│           ┆ 17        ┆          ┆           ┆   ┆           ┆           ┆           ┆           │\n",
       "└───────────┴───────────┴──────────┴───────────┴───┴───────────┴───────────┴───────────┴───────────┘"
      ]
     },
     "execution_count": 3,
     "metadata": {},
     "output_type": "execute_result"
    }
   ],
   "source": [
    "df_materials.tail()"
   ]
  },
  {
   "cell_type": "code",
   "execution_count": 4,
   "metadata": {},
   "outputs": [],
   "source": [
    "# df_contracts = df_contracts.with_columns(\n",
    "#     pl.struct([\n",
    "#         'price_per_unit',\n",
    "#         'quantity',\n",
    "#         'bundling_unit',\n",
    "#         'bundling_amount',\n",
    "#         'bundling_discount',\n",
    "#         'payment_term',\n",
    "#         'payment_term_markup',\n",
    "#         'delivery_timeline',\n",
    "#         'contract_period',\n",
    "#         'contract_inflation',\n",
    "#         'rebates_threshold_unit',\n",
    "#         'rebates_discount',\n",
    "#         'warranty',\n",
    "#         'incoterms'\n",
    "#     ])\n",
    "#     .map_elements(\n",
    "#         lambda row: um.levers_to_offer_text(\n",
    "#             price_per_unit = row['price_per_unit'],\n",
    "#             quantity = row['quantity'],\n",
    "#             bundling_unit = row['bundling_unit'],\n",
    "#             bundling_amount = row['bundling_amount'],\n",
    "#             bundling_discount = row['bundling_discount'],\n",
    "#             payment_term = row['payment_term'],\n",
    "#             payment_term_markup = row['payment_term_markup'],\n",
    "#             delivery_timeline = row['delivery_timeline'],\n",
    "#             contract_period = row['contract_period'],\n",
    "#             contract_inflation = row['contract_inflation'],\n",
    "#             rebates_threshold_unit = row['rebates_threshold_unit'],\n",
    "#             rebates_discount = row['rebates_discount'],\n",
    "#             warranty = row['warranty'],\n",
    "#             incoterms = row['incoterms']\n",
    "#         )\n",
    "#     )\n",
    "#     .alias('contract_details')\n",
    "# )\n",
    "# df_contracts.head()"
   ]
  },
  {
   "cell_type": "code",
   "execution_count": 22,
   "metadata": {},
   "outputs": [
    {
     "data": {
      "text/html": [
       "<div><style>\n",
       ".dataframe > thead > tr,\n",
       ".dataframe > tbody > tr {\n",
       "  text-align: right;\n",
       "  white-space: pre-wrap;\n",
       "}\n",
       "</style>\n",
       "<small>shape: (14, 3)</small><table border=\"1\" class=\"dataframe\"><thead><tr><th>Levers</th><th>Offer 1</th><th>Offer 2</th></tr><tr><td>str</td><td>str</td><td>str</td></tr></thead><tbody><tr><td>&quot;material_id&quot;</td><td>&quot;1&quot;</td><td>&quot;2&quot;</td></tr><tr><td>&quot;description&quot;</td><td>&quot;Material 1&quot;</td><td>&quot;Material 2&quot;</td></tr><tr><td>&quot;quantity&quot;</td><td>&quot;14548&quot;</td><td>&quot;10144&quot;</td></tr><tr><td>&quot;price_per_unit&quot;</td><td>&quot;149&quot;</td><td>&quot;104&quot;</td></tr><tr><td>&quot;min_quantity&quot;</td><td>&quot;14548&quot;</td><td>&quot;10144&quot;</td></tr><tr><td>&hellip;</td><td>&hellip;</td><td>&hellip;</td></tr><tr><td>&quot;max_incoterm&quot;</td><td>&quot;EXW&quot;</td><td>&quot;EXW&quot;</td></tr><tr><td>&quot;min_delivery_time&quot;</td><td>&quot;7&quot;</td><td>&quot;7&quot;</td></tr><tr><td>&quot;max_delivery_time&quot;</td><td>&quot;28&quot;</td><td>&quot;28&quot;</td></tr><tr><td>&quot;min_payment_term&quot;</td><td>&quot;NET10&quot;</td><td>&quot;NET10&quot;</td></tr><tr><td>&quot;max_payment_term&quot;</td><td>&quot;NET90&quot;</td><td>&quot;NET90&quot;</td></tr></tbody></table></div>"
      ],
      "text/plain": [
       "shape: (14, 3)\n",
       "┌───────────────────┬────────────┬────────────┐\n",
       "│ Levers            ┆ Offer 1    ┆ Offer 2    │\n",
       "│ ---               ┆ ---        ┆ ---        │\n",
       "│ str               ┆ str        ┆ str        │\n",
       "╞═══════════════════╪════════════╪════════════╡\n",
       "│ material_id       ┆ 1          ┆ 2          │\n",
       "│ description       ┆ Material 1 ┆ Material 2 │\n",
       "│ quantity          ┆ 14548      ┆ 10144      │\n",
       "│ price_per_unit    ┆ 149        ┆ 104        │\n",
       "│ min_quantity      ┆ 14548      ┆ 10144      │\n",
       "│ …                 ┆ …          ┆ …          │\n",
       "│ max_incoterm      ┆ EXW        ┆ EXW        │\n",
       "│ min_delivery_time ┆ 7          ┆ 7          │\n",
       "│ max_delivery_time ┆ 28         ┆ 28         │\n",
       "│ min_payment_term  ┆ NET10      ┆ NET10      │\n",
       "│ max_payment_term  ┆ NET90      ┆ NET90      │\n",
       "└───────────────────┴────────────┴────────────┘"
      ]
     },
     "execution_count": 22,
     "metadata": {},
     "output_type": "execute_result"
    }
   ],
   "source": [
    "df = df_materials.head(2).transpose(include_header=True)\n",
    "df.columns = ['Levers','Offer 1','Offer 2']\n",
    "df\n",
    "# .to_pandas().to_html(index = False)"
   ]
  },
  {
   "cell_type": "code",
   "execution_count": 4,
   "metadata": {},
   "outputs": [],
   "source": [
    "df_materials = pl.read_excel(source=\"data/master_data.xlsx\",sheet_name='Materials')\n",
    "for material in df_materials.rows(named = True):\n",
    "    material = ud.Material().load_from_data(material)\n",
    "    ud.add_material(material=material)"
   ]
  },
  {
   "cell_type": "code",
   "execution_count": 5,
   "metadata": {},
   "outputs": [],
   "source": [
    "df_suppliers = pl.read_excel(source=\"data/master_data.xlsx\",sheet_name='Users')\n",
    "for user in df_suppliers.rows(named = True):\n",
    "    ud.add_user(username=user['username'],role=user['role'])"
   ]
  },
  {
   "cell_type": "code",
   "execution_count": 6,
   "metadata": {},
   "outputs": [
    {
     "name": "stderr",
     "output_type": "stream",
     "text": [
      "Could not determine dtype for column 7, falling back to string\n",
      "Could not determine dtype for column 10, falling back to string\n"
     ]
    }
   ],
   "source": [
    "df_contracts = pl.read_excel(source=\"data/master_data.xlsx\",sheet_name='Contracts')\n",
    "for contract in df_contracts.rows(named = True):\n",
    "    contract = ud.Contract().load_from_data(contract)\n",
    "    ud.add_contract(contract=contract)"
   ]
  },
  {
   "cell_type": "code",
   "execution_count": 7,
   "metadata": {},
   "outputs": [],
   "source": [
    "# ud.clear_sessions()\n",
    "df_sessions = pl.read_excel(source=\"data/master_data.xlsx\",sheet_name='Sessions')\n",
    "for session in df_sessions.rows(named = True):\n",
    "    session = ud.Session().load_from_data(session)\n",
    "    ud.add_session(session=session)"
   ]
  },
  {
   "cell_type": "code",
   "execution_count": 9,
   "metadata": {},
   "outputs": [
    {
     "data": {
      "text/html": [
       "<div><style>\n",
       ".dataframe > thead > tr,\n",
       ".dataframe > tbody > tr {\n",
       "  text-align: right;\n",
       "  white-space: pre-wrap;\n",
       "}\n",
       "</style>\n",
       "<small>shape: (2, 15)</small><table border=\"1\" class=\"dataframe\"><thead><tr><th>material_id</th><th>description</th><th>quantity</th><th>price_per_unit</th><th>min_quantity</th><th>max_quantity</th><th>min_price_per_unit</th><th>max_price_per_unit</th><th>min_incoterm</th><th>max_incoterm</th><th>min_payment_term</th><th>max_payment_term</th><th>min_delivery_time</th><th>max_delivery_time</th><th>created_at</th></tr><tr><td>i32</td><td>str</td><td>i32</td><td>f32</td><td>i32</td><td>i32</td><td>f32</td><td>f32</td><td>str</td><td>str</td><td>str</td><td>str</td><td>i32</td><td>i32</td><td>datetime[μs]</td></tr></thead><tbody><tr><td>1</td><td>&quot;Material 1&quot;</td><td>14548</td><td>149.0</td><td>14548</td><td>18912</td><td>149.0</td><td>201.149994</td><td>&quot;DDP&quot;</td><td>&quot;DDP&quot;</td><td>&quot;NET10&quot;</td><td>&quot;NET90&quot;</td><td>7</td><td>28</td><td>2025-03-13 09:57:08.880</td></tr><tr><td>2</td><td>&quot;Material 2&quot;</td><td>10144</td><td>104.0</td><td>10144</td><td>13187</td><td>104.0</td><td>140.399994</td><td>&quot;DDP&quot;</td><td>&quot;DDP&quot;</td><td>&quot;NET10&quot;</td><td>&quot;NET90&quot;</td><td>7</td><td>28</td><td>2025-03-13 09:57:08.926</td></tr></tbody></table></div>"
      ],
      "text/plain": [
       "shape: (2, 15)\n",
       "┌───────────┬───────────┬──────────┬───────────┬───┬───────────┬───────────┬───────────┬───────────┐\n",
       "│ material_ ┆ descripti ┆ quantity ┆ price_per ┆ … ┆ max_payme ┆ min_deliv ┆ max_deliv ┆ created_a │\n",
       "│ id        ┆ on        ┆ ---      ┆ _unit     ┆   ┆ nt_term   ┆ ery_time  ┆ ery_time  ┆ t         │\n",
       "│ ---       ┆ ---       ┆ i32      ┆ ---       ┆   ┆ ---       ┆ ---       ┆ ---       ┆ ---       │\n",
       "│ i32       ┆ str       ┆          ┆ f32       ┆   ┆ str       ┆ i32       ┆ i32       ┆ datetime[ │\n",
       "│           ┆           ┆          ┆           ┆   ┆           ┆           ┆           ┆ μs]       │\n",
       "╞═══════════╪═══════════╪══════════╪═══════════╪═══╪═══════════╪═══════════╪═══════════╪═══════════╡\n",
       "│ 1         ┆ Material  ┆ 14548    ┆ 149.0     ┆ … ┆ NET90     ┆ 7         ┆ 28        ┆ 2025-03-1 │\n",
       "│           ┆ 1         ┆          ┆           ┆   ┆           ┆           ┆           ┆ 3 09:57:0 │\n",
       "│           ┆           ┆          ┆           ┆   ┆           ┆           ┆           ┆ 8.880     │\n",
       "│ 2         ┆ Material  ┆ 10144    ┆ 104.0     ┆ … ┆ NET90     ┆ 7         ┆ 28        ┆ 2025-03-1 │\n",
       "│           ┆ 2         ┆          ┆           ┆   ┆           ┆           ┆           ┆ 3 09:57:0 │\n",
       "│           ┆           ┆          ┆           ┆   ┆           ┆           ┆           ┆ 8.926     │\n",
       "└───────────┴───────────┴──────────┴───────────┴───┴───────────┴───────────┴───────────┴───────────┘"
      ]
     },
     "execution_count": 9,
     "metadata": {},
     "output_type": "execute_result"
    }
   ],
   "source": [
    "con = duckdb.connect(\"chatbot.duckdb\")\n",
    "df = con.execute(\"\"\"SELECT * FROM Materials\"\"\").pl()\n",
    "con.close()\n",
    "df.head(2)"
   ]
  },
  {
   "cell_type": "code",
   "execution_count": 10,
   "metadata": {},
   "outputs": [
    {
     "data": {
      "text/html": [
       "<div><style>\n",
       ".dataframe > thead > tr,\n",
       ".dataframe > tbody > tr {\n",
       "  text-align: right;\n",
       "  white-space: pre-wrap;\n",
       "}\n",
       "</style>\n",
       "<small>shape: (2, 5)</small><table border=\"1\" class=\"dataframe\"><thead><tr><th>session_id</th><th>username</th><th>description</th><th>start_time</th><th>end_time</th></tr><tr><td>i32</td><td>str</td><td>str</td><td>datetime[μs]</td><td>datetime[μs]</td></tr></thead><tbody><tr><td>4</td><td>&quot;abc123&quot;</td><td>&quot;Material 1&quot;</td><td>2025-03-13 00:00:00</td><td>2025-03-13 00:00:00</td></tr><tr><td>1</td><td>&quot;abc123&quot;</td><td>&quot;Material 2&quot;</td><td>2025-03-13 00:00:00</td><td>2025-03-13 00:00:00</td></tr></tbody></table></div>"
      ],
      "text/plain": [
       "shape: (2, 5)\n",
       "┌────────────┬──────────┬─────────────┬─────────────────────┬─────────────────────┐\n",
       "│ session_id ┆ username ┆ description ┆ start_time          ┆ end_time            │\n",
       "│ ---        ┆ ---      ┆ ---         ┆ ---                 ┆ ---                 │\n",
       "│ i32        ┆ str      ┆ str         ┆ datetime[μs]        ┆ datetime[μs]        │\n",
       "╞════════════╪══════════╪═════════════╪═════════════════════╪═════════════════════╡\n",
       "│ 4          ┆ abc123   ┆ Material 1  ┆ 2025-03-13 00:00:00 ┆ 2025-03-13 00:00:00 │\n",
       "│ 1          ┆ abc123   ┆ Material 2  ┆ 2025-03-13 00:00:00 ┆ 2025-03-13 00:00:00 │\n",
       "└────────────┴──────────┴─────────────┴─────────────────────┴─────────────────────┘"
      ]
     },
     "execution_count": 10,
     "metadata": {},
     "output_type": "execute_result"
    }
   ],
   "source": [
    "con = duckdb.connect(\"chatbot.duckdb\")\n",
    "df = con.execute(\"\"\"SELECT ss.session_id, u.username,m.description, ss.start_time, ss.end_time \n",
    "        FROM Sessions ss\n",
    "        LEFT JOIN Users u on ss.user_id = u.user_id\n",
    "        LEFT JOIN Materials m on ss.material_id = m.material_id\n",
    "        order by ss.start_time desc\"\"\").pl()\n",
    "con.close()\n",
    "df.head(2)"
   ]
  },
  {
   "cell_type": "code",
   "execution_count": 11,
   "metadata": {},
   "outputs": [
    {
     "data": {
      "text/html": [
       "<div><style>\n",
       ".dataframe > thead > tr,\n",
       ".dataframe > tbody > tr {\n",
       "  text-align: right;\n",
       "  white-space: pre-wrap;\n",
       "}\n",
       "</style>\n",
       "<small>shape: (3, 5)</small><table border=\"1\" class=\"dataframe\"><thead><tr><th>session_id</th><th>username</th><th>description</th><th>start_time</th><th>end_time</th></tr><tr><td>i32</td><td>str</td><td>str</td><td>datetime[μs]</td><td>datetime[μs]</td></tr></thead><tbody><tr><td>11</td><td>&quot;monojit&quot;</td><td>&quot;Material 14&quot;</td><td>2025-03-13 00:00:00</td><td>2025-03-13 00:00:00</td></tr><tr><td>12</td><td>&quot;monojit&quot;</td><td>&quot;Material 15&quot;</td><td>2025-03-13 00:00:00</td><td>2025-03-13 00:00:00</td></tr><tr><td>13</td><td>&quot;monojit&quot;</td><td>&quot;Material 16&quot;</td><td>2025-03-13 00:00:00</td><td>2025-03-13 00:00:00</td></tr></tbody></table></div>"
      ],
      "text/plain": [
       "shape: (3, 5)\n",
       "┌────────────┬──────────┬─────────────┬─────────────────────┬─────────────────────┐\n",
       "│ session_id ┆ username ┆ description ┆ start_time          ┆ end_time            │\n",
       "│ ---        ┆ ---      ┆ ---         ┆ ---                 ┆ ---                 │\n",
       "│ i32        ┆ str      ┆ str         ┆ datetime[μs]        ┆ datetime[μs]        │\n",
       "╞════════════╪══════════╪═════════════╪═════════════════════╪═════════════════════╡\n",
       "│ 11         ┆ monojit  ┆ Material 14 ┆ 2025-03-13 00:00:00 ┆ 2025-03-13 00:00:00 │\n",
       "│ 12         ┆ monojit  ┆ Material 15 ┆ 2025-03-13 00:00:00 ┆ 2025-03-13 00:00:00 │\n",
       "│ 13         ┆ monojit  ┆ Material 16 ┆ 2025-03-13 00:00:00 ┆ 2025-03-13 00:00:00 │\n",
       "└────────────┴──────────┴─────────────┴─────────────────────┴─────────────────────┘"
      ]
     },
     "execution_count": 11,
     "metadata": {},
     "output_type": "execute_result"
    }
   ],
   "source": [
    "ud.pull_sessions_by_user('monojit')"
   ]
  },
  {
   "cell_type": "code",
   "execution_count": 14,
   "metadata": {},
   "outputs": [
    {
     "data": {
      "text/plain": [
       "{'contract_id': 2,\n",
       " 'user_id': 1,\n",
       " 'material_id': 2,\n",
       " 'contract_details': None,\n",
       " 'price_per_unit': 104.0,\n",
       " 'quantity': 10144.0,\n",
       " 'bundling_unit': 20288.0,\n",
       " 'bundling_amount': None,\n",
       " 'bundling_discount': 5.0,\n",
       " 'payment_term': 'NET60',\n",
       " 'delivery_timeline': 17.0,\n",
       " 'contract_period': 2.0,\n",
       " 'contract_inflation': 1.0,\n",
       " 'rebates_threshold_unit': 13085.0,\n",
       " 'rebates_discount': 2.0,\n",
       " 'warranty': 1.0,\n",
       " 'incoterms': 'EXW',\n",
       " 'created_at': datetime.datetime(2025, 3, 1, 10, 6, 11, 296000),\n",
       " 'expiry_tmstp': datetime.datetime(2025, 3, 1, 10, 6, 11, 296000)}"
      ]
     },
     "execution_count": 14,
     "metadata": {},
     "output_type": "execute_result"
    }
   ],
   "source": [
    "material = ud.get_material_info(material_id = 2)\n",
    "contract = ud.get_last_contract(user_id=1,material_id=2)\n",
    "MIN_LEVERS = {\n",
    "    'price_per_unit':material['min_price_per_unit'],\n",
    "    'quantity': material['min_quantity']\n",
    "}\n",
    "MAX_LEVERS = {\n",
    "    'price_per_unit':material['max_price_per_unit'],\n",
    "    'quantity': material['max_quantity']\n",
    "}\n",
    "contract"
   ]
  },
  {
   "cell_type": "code",
   "execution_count": null,
   "metadata": {},
   "outputs": [
    {
     "data": {
      "text/plain": [
       "[(4,), (1,), (3,), (2,), (5,)]"
      ]
     },
     "execution_count": 29,
     "metadata": {},
     "output_type": "execute_result"
    }
   ],
   "source": [
    "conn = duckdb.connect('chatbot.duckdb')\n",
    "matrls = ud.list_materials(user_id=1,db_connection=conn)\n",
    "conn.close()"
   ]
  }
 ],
 "metadata": {
  "kernelspec": {
   "display_name": ".venv",
   "language": "python",
   "name": "python3"
  },
  "language_info": {
   "codemirror_mode": {
    "name": "ipython",
    "version": 3
   },
   "file_extension": ".py",
   "mimetype": "text/x-python",
   "name": "python",
   "nbconvert_exporter": "python",
   "pygments_lexer": "ipython3",
   "version": "3.12.9"
  }
 },
 "nbformat": 4,
 "nbformat_minor": 2
}
