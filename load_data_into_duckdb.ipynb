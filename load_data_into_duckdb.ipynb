{
 "cells": [
  {
   "cell_type": "code",
   "execution_count": 13,
   "metadata": {},
   "outputs": [
    {
     "name": "stdout",
     "output_type": "stream",
     "text": [
      "The autoreload extension is already loaded. To reload it, use:\n",
      "  %reload_ext autoreload\n"
     ]
    }
   ],
   "source": [
    "import polars as pl\n",
    "import duckdb\n",
    "import utils_database as ud\n",
    "import utils\n",
    "import utils_model as um\n",
    "%load_ext autoreload\n",
    "%autoreload 2"
   ]
  },
  {
   "cell_type": "code",
   "execution_count": 22,
   "metadata": {},
   "outputs": [],
   "source": [
    "# ud.clear_sessions()\n",
    "# ud.clear_messages()\n",
    "# len(ud.list_sessions(user_id=4))"
   ]
  },
  {
   "cell_type": "code",
   "execution_count": 3,
   "metadata": {},
   "outputs": [
    {
     "name": "stderr",
     "output_type": "stream",
     "text": [
      "Could not determine dtype for column 7, falling back to string\n",
      "Could not determine dtype for column 10, falling back to string\n"
     ]
    }
   ],
   "source": [
    "df_suppliers = pl.read_excel(source=\"data/master_data.xlsx\",sheet_name='Suppliers')\n",
    "df_materials = pl.read_excel(source=\"data/master_data.xlsx\",sheet_name='Materials')\n",
    "df_contracts = pl.read_excel(source=\"data/master_data.xlsx\",sheet_name='Contracts')\n",
    "df_sessions = pl.read_excel(source=\"data/master_data.xlsx\",sheet_name='Sessions')"
   ]
  },
  {
   "cell_type": "code",
   "execution_count": 4,
   "metadata": {},
   "outputs": [
    {
     "data": {
      "text/html": [
       "<div><style>\n",
       ".dataframe > thead > tr,\n",
       ".dataframe > tbody > tr {\n",
       "  text-align: right;\n",
       "  white-space: pre-wrap;\n",
       "}\n",
       "</style>\n",
       "<small>shape: (5, 18)</small><table border=\"1\" class=\"dataframe\"><thead><tr><th>contract_id</th><th>user_id</th><th>material_id</th><th>contract_details</th><th>price_per_unit</th><th>quantity</th><th>bundling_unit</th><th>bundling_amount</th><th>bundling_discount</th><th>payment_term</th><th>payment_term_markup</th><th>delivery_timeline</th><th>contract_period</th><th>contract_inflation</th><th>rebates_threshold_unit</th><th>rebates_discount</th><th>warranty</th><th>incoterms</th></tr><tr><td>i64</td><td>i64</td><td>i64</td><td>str</td><td>i64</td><td>i64</td><td>i64</td><td>str</td><td>i64</td><td>str</td><td>str</td><td>i64</td><td>i64</td><td>i64</td><td>i64</td><td>i64</td><td>i64</td><td>str</td></tr></thead><tbody><tr><td>1</td><td>1</td><td>1</td><td>&quot;Unit Price: \\$ 149;Quantity: 1…</td><td>149</td><td>14548</td><td>29096</td><td>null</td><td>4</td><td>&quot;NET60&quot;</td><td>null</td><td>11</td><td>2</td><td>0</td><td>18766</td><td>2</td><td>1</td><td>&quot;FOB&quot;</td></tr><tr><td>2</td><td>1</td><td>2</td><td>&quot;Unit Price: \\$ 104;Quantity: 1…</td><td>104</td><td>10144</td><td>20288</td><td>null</td><td>5</td><td>&quot;NET60&quot;</td><td>null</td><td>17</td><td>2</td><td>1</td><td>13085</td><td>2</td><td>1</td><td>&quot;EXW&quot;</td></tr><tr><td>3</td><td>1</td><td>3</td><td>&quot;Unit Price: \\$ 107;Quantity: 1…</td><td>107</td><td>17132</td><td>34264</td><td>null</td><td>7</td><td>&quot;NET60&quot;</td><td>null</td><td>16</td><td>2</td><td>1</td><td>21072</td><td>3</td><td>1</td><td>&quot;CIF&quot;</td></tr><tr><td>4</td><td>1</td><td>4</td><td>&quot;Unit Price: \\$ 109;Quantity: 1…</td><td>109</td><td>14532</td><td>29064</td><td>null</td><td>6</td><td>&quot;NET30&quot;</td><td>null</td><td>11</td><td>2</td><td>1</td><td>17583</td><td>3</td><td>1</td><td>&quot;FOB&quot;</td></tr><tr><td>5</td><td>1</td><td>5</td><td>&quot;Unit Price: \\$ 112;Quantity: 1…</td><td>112</td><td>11775</td><td>23550</td><td>null</td><td>6</td><td>&quot;NET30&quot;</td><td>null</td><td>11</td><td>2</td><td>1</td><td>14601</td><td>3</td><td>1</td><td>&quot;FCA&quot;</td></tr></tbody></table></div>"
      ],
      "text/plain": [
       "shape: (5, 18)\n",
       "┌────────────┬─────────┬────────────┬───────────┬───┬───────────┬───────────┬──────────┬───────────┐\n",
       "│ contract_i ┆ user_id ┆ material_i ┆ contract_ ┆ … ┆ rebates_t ┆ rebates_d ┆ warranty ┆ incoterms │\n",
       "│ d          ┆ ---     ┆ d          ┆ details   ┆   ┆ hreshold_ ┆ iscount   ┆ ---      ┆ ---       │\n",
       "│ ---        ┆ i64     ┆ ---        ┆ ---       ┆   ┆ unit      ┆ ---       ┆ i64      ┆ str       │\n",
       "│ i64        ┆         ┆ i64        ┆ str       ┆   ┆ ---       ┆ i64       ┆          ┆           │\n",
       "│            ┆         ┆            ┆           ┆   ┆ i64       ┆           ┆          ┆           │\n",
       "╞════════════╪═════════╪════════════╪═══════════╪═══╪═══════════╪═══════════╪══════════╪═══════════╡\n",
       "│ 1          ┆ 1       ┆ 1          ┆ Unit      ┆ … ┆ 18766     ┆ 2         ┆ 1        ┆ FOB       │\n",
       "│            ┆         ┆            ┆ Price: \\$ ┆   ┆           ┆           ┆          ┆           │\n",
       "│            ┆         ┆            ┆ 149;Quant ┆   ┆           ┆           ┆          ┆           │\n",
       "│            ┆         ┆            ┆ ity: 1…   ┆   ┆           ┆           ┆          ┆           │\n",
       "│ 2          ┆ 1       ┆ 2          ┆ Unit      ┆ … ┆ 13085     ┆ 2         ┆ 1        ┆ EXW       │\n",
       "│            ┆         ┆            ┆ Price: \\$ ┆   ┆           ┆           ┆          ┆           │\n",
       "│            ┆         ┆            ┆ 104;Quant ┆   ┆           ┆           ┆          ┆           │\n",
       "│            ┆         ┆            ┆ ity: 1…   ┆   ┆           ┆           ┆          ┆           │\n",
       "│ 3          ┆ 1       ┆ 3          ┆ Unit      ┆ … ┆ 21072     ┆ 3         ┆ 1        ┆ CIF       │\n",
       "│            ┆         ┆            ┆ Price: \\$ ┆   ┆           ┆           ┆          ┆           │\n",
       "│            ┆         ┆            ┆ 107;Quant ┆   ┆           ┆           ┆          ┆           │\n",
       "│            ┆         ┆            ┆ ity: 1…   ┆   ┆           ┆           ┆          ┆           │\n",
       "│ 4          ┆ 1       ┆ 4          ┆ Unit      ┆ … ┆ 17583     ┆ 3         ┆ 1        ┆ FOB       │\n",
       "│            ┆         ┆            ┆ Price: \\$ ┆   ┆           ┆           ┆          ┆           │\n",
       "│            ┆         ┆            ┆ 109;Quant ┆   ┆           ┆           ┆          ┆           │\n",
       "│            ┆         ┆            ┆ ity: 1…   ┆   ┆           ┆           ┆          ┆           │\n",
       "│ 5          ┆ 1       ┆ 5          ┆ Unit      ┆ … ┆ 14601     ┆ 3         ┆ 1        ┆ FCA       │\n",
       "│            ┆         ┆            ┆ Price: \\$ ┆   ┆           ┆           ┆          ┆           │\n",
       "│            ┆         ┆            ┆ 112;Quant ┆   ┆           ┆           ┆          ┆           │\n",
       "│            ┆         ┆            ┆ ity: 1…   ┆   ┆           ┆           ┆          ┆           │\n",
       "└────────────┴─────────┴────────────┴───────────┴───┴───────────┴───────────┴──────────┴───────────┘"
      ]
     },
     "execution_count": 4,
     "metadata": {},
     "output_type": "execute_result"
    }
   ],
   "source": [
    "df_contracts.head()"
   ]
  },
  {
   "cell_type": "code",
   "execution_count": 4,
   "metadata": {},
   "outputs": [],
   "source": [
    "# df_contracts = df_contracts.with_columns(\n",
    "#     pl.struct([\n",
    "#         'price_per_unit',\n",
    "#         'quantity',\n",
    "#         'bundling_unit',\n",
    "#         'bundling_amount',\n",
    "#         'bundling_discount',\n",
    "#         'payment_term',\n",
    "#         'payment_term_markup',\n",
    "#         'delivery_timeline',\n",
    "#         'contract_period',\n",
    "#         'contract_inflation',\n",
    "#         'rebates_threshold_unit',\n",
    "#         'rebates_discount',\n",
    "#         'warranty',\n",
    "#         'incoterms'\n",
    "#     ])\n",
    "#     .map_elements(\n",
    "#         lambda row: um.levers_to_offer_text(\n",
    "#             price_per_unit = row['price_per_unit'],\n",
    "#             quantity = row['quantity'],\n",
    "#             bundling_unit = row['bundling_unit'],\n",
    "#             bundling_amount = row['bundling_amount'],\n",
    "#             bundling_discount = row['bundling_discount'],\n",
    "#             payment_term = row['payment_term'],\n",
    "#             payment_term_markup = row['payment_term_markup'],\n",
    "#             delivery_timeline = row['delivery_timeline'],\n",
    "#             contract_period = row['contract_period'],\n",
    "#             contract_inflation = row['contract_inflation'],\n",
    "#             rebates_threshold_unit = row['rebates_threshold_unit'],\n",
    "#             rebates_discount = row['rebates_discount'],\n",
    "#             warranty = row['warranty'],\n",
    "#             incoterms = row['incoterms']\n",
    "#         )\n",
    "#     )\n",
    "#     .alias('contract_details')\n",
    "# )\n",
    "# df_contracts.head()"
   ]
  },
  {
   "cell_type": "code",
   "execution_count": 5,
   "metadata": {},
   "outputs": [
    {
     "data": {
      "text/html": [
       "<div><style>\n",
       ".dataframe > thead > tr,\n",
       ".dataframe > tbody > tr {\n",
       "  text-align: right;\n",
       "  white-space: pre-wrap;\n",
       "}\n",
       "</style>\n",
       "<small>shape: (2, 8)</small><table border=\"1\" class=\"dataframe\"><thead><tr><th>material_id</th><th>description</th><th>quantity</th><th>price_per_unit</th><th>min_quantity</th><th>max_quantity</th><th>min_price_per_unit</th><th>max_price_per_unit</th></tr><tr><td>i64</td><td>str</td><td>i64</td><td>i64</td><td>i64</td><td>f64</td><td>i64</td><td>f64</td></tr></thead><tbody><tr><td>1</td><td>&quot;Material 1&quot;</td><td>14548</td><td>149</td><td>14548</td><td>18912.4</td><td>149</td><td>201.15</td></tr><tr><td>2</td><td>&quot;Material 2&quot;</td><td>10144</td><td>104</td><td>10144</td><td>13187.2</td><td>104</td><td>140.4</td></tr></tbody></table></div>"
      ],
      "text/plain": [
       "shape: (2, 8)\n",
       "┌────────────┬────────────┬──────────┬────────────┬────────────┬───────────┬───────────┬───────────┐\n",
       "│ material_i ┆ descriptio ┆ quantity ┆ price_per_ ┆ min_quanti ┆ max_quant ┆ min_price ┆ max_price │\n",
       "│ d          ┆ n          ┆ ---      ┆ unit       ┆ ty         ┆ ity       ┆ _per_unit ┆ _per_unit │\n",
       "│ ---        ┆ ---        ┆ i64      ┆ ---        ┆ ---        ┆ ---       ┆ ---       ┆ ---       │\n",
       "│ i64        ┆ str        ┆          ┆ i64        ┆ i64        ┆ f64       ┆ i64       ┆ f64       │\n",
       "╞════════════╪════════════╪══════════╪════════════╪════════════╪═══════════╪═══════════╪═══════════╡\n",
       "│ 1          ┆ Material 1 ┆ 14548    ┆ 149        ┆ 14548      ┆ 18912.4   ┆ 149       ┆ 201.15    │\n",
       "│ 2          ┆ Material 2 ┆ 10144    ┆ 104        ┆ 10144      ┆ 13187.2   ┆ 104       ┆ 140.4     │\n",
       "└────────────┴────────────┴──────────┴────────────┴────────────┴───────────┴───────────┴───────────┘"
      ]
     },
     "execution_count": 5,
     "metadata": {},
     "output_type": "execute_result"
    }
   ],
   "source": [
    "df_materials.head(2)"
   ]
  },
  {
   "cell_type": "code",
   "execution_count": 18,
   "metadata": {},
   "outputs": [
    {
     "ename": "ConstraintException",
     "evalue": "Constraint Error: Duplicate key \"material_id: 1\" violates primary key constraint. If this is an unexpected constraint violation please double check with the known index limitations section in our documentation (https://duckdb.org/docs/sql/indexes).",
     "output_type": "error",
     "traceback": [
      "\u001b[1;31m---------------------------------------------------------------------------\u001b[0m",
      "\u001b[1;31mConstraintException\u001b[0m                       Traceback (most recent call last)",
      "Cell \u001b[1;32mIn[18], line 4\u001b[0m\n\u001b[0;32m      2\u001b[0m \u001b[38;5;28;01mfor\u001b[39;00m material \u001b[38;5;129;01min\u001b[39;00m df_materials\u001b[38;5;241m.\u001b[39mrows(named \u001b[38;5;241m=\u001b[39m \u001b[38;5;28;01mTrue\u001b[39;00m):\n\u001b[0;32m      3\u001b[0m     material \u001b[38;5;241m=\u001b[39m ud\u001b[38;5;241m.\u001b[39mMaterial()\u001b[38;5;241m.\u001b[39mload_from_data(material)\n\u001b[1;32m----> 4\u001b[0m     \u001b[43mud\u001b[49m\u001b[38;5;241;43m.\u001b[39;49m\u001b[43madd_material\u001b[49m\u001b[43m(\u001b[49m\u001b[43mmaterial\u001b[49m\u001b[38;5;241;43m=\u001b[39;49m\u001b[43mmaterial\u001b[49m\u001b[43m)\u001b[49m\n",
      "File \u001b[1;32mc:\\Users\\monojit.mandal\\OneDrive - Accenture\\projects\\assets\\Supplier Negotiation Chatbot\\vendor-negotiation-chatbot\\utils_database.py:193\u001b[0m, in \u001b[0;36madd_material\u001b[1;34m(material)\u001b[0m\n\u001b[0;32m    191\u001b[0m \u001b[38;5;28;01mdef\u001b[39;00m \u001b[38;5;21madd_material\u001b[39m(material:Material):\n\u001b[0;32m    192\u001b[0m     db_connection \u001b[38;5;241m=\u001b[39m duckdb\u001b[38;5;241m.\u001b[39mconnect(DUCKDB_DB_NAME)\n\u001b[1;32m--> 193\u001b[0m     \u001b[43mdb_connection\u001b[49m\u001b[38;5;241;43m.\u001b[39;49m\u001b[43mexecute\u001b[49m\u001b[43m(\u001b[49m\n\u001b[0;32m    194\u001b[0m \u001b[38;5;250;43m        \u001b[39;49m\u001b[38;5;124;43;03m\"\"\"\u001b[39;49;00m\n\u001b[0;32m    195\u001b[0m \u001b[38;5;124;43;03m        INSERT INTO Materials \u001b[39;49;00m\n\u001b[0;32m    196\u001b[0m \u001b[38;5;124;43;03m        (material_id,description,quantity,price_per_unit,\u001b[39;49;00m\n\u001b[0;32m    197\u001b[0m \u001b[38;5;124;43;03m        min_quantity,max_quantity,min_price_per_unit,max_price_per_unit)\u001b[39;49;00m\n\u001b[0;32m    198\u001b[0m \u001b[38;5;124;43;03m        VALUES(?,?,?,?,?,?,?,?)\u001b[39;49;00m\n\u001b[0;32m    199\u001b[0m \u001b[38;5;124;43;03m        \"\"\"\u001b[39;49;00m\u001b[43m,\u001b[49m\n\u001b[0;32m    200\u001b[0m \u001b[43m        \u001b[49m\u001b[43m(\u001b[49m\n\u001b[0;32m    201\u001b[0m \u001b[43m            \u001b[49m\u001b[43mmaterial\u001b[49m\u001b[38;5;241;43m.\u001b[39;49m\u001b[43mmaterial_id\u001b[49m\u001b[43m,\u001b[49m\u001b[43mmaterial\u001b[49m\u001b[38;5;241;43m.\u001b[39;49m\u001b[43mdescription\u001b[49m\u001b[43m,\u001b[49m\u001b[43mmaterial\u001b[49m\u001b[38;5;241;43m.\u001b[39;49m\u001b[43mquantity\u001b[49m\u001b[43m,\u001b[49m\n\u001b[0;32m    202\u001b[0m \u001b[43m            \u001b[49m\u001b[43mmaterial\u001b[49m\u001b[38;5;241;43m.\u001b[39;49m\u001b[43mprice_per_unit\u001b[49m\u001b[43m,\u001b[49m\u001b[43mmaterial\u001b[49m\u001b[38;5;241;43m.\u001b[39;49m\u001b[43mmin_quantity\u001b[49m\u001b[43m,\u001b[49m\u001b[43mmaterial\u001b[49m\u001b[38;5;241;43m.\u001b[39;49m\u001b[43mmax_quantity\u001b[49m\u001b[43m,\u001b[49m\n\u001b[0;32m    203\u001b[0m \u001b[43m            \u001b[49m\u001b[43mmaterial\u001b[49m\u001b[38;5;241;43m.\u001b[39;49m\u001b[43mmin_price_per_unit\u001b[49m\u001b[43m,\u001b[49m\u001b[43mmaterial\u001b[49m\u001b[38;5;241;43m.\u001b[39;49m\u001b[43mmax_price_per_unit\u001b[49m\n\u001b[0;32m    204\u001b[0m \u001b[43m        \u001b[49m\u001b[43m)\u001b[49m\n\u001b[0;32m    205\u001b[0m \u001b[43m    \u001b[49m\u001b[43m)\u001b[49m\n\u001b[0;32m    206\u001b[0m     db_connection\u001b[38;5;241m.\u001b[39mclose()\n\u001b[0;32m    207\u001b[0m     \u001b[38;5;28;01mreturn\u001b[39;00m \u001b[38;5;28;01mTrue\u001b[39;00m\n",
      "\u001b[1;31mConstraintException\u001b[0m: Constraint Error: Duplicate key \"material_id: 1\" violates primary key constraint. If this is an unexpected constraint violation please double check with the known index limitations section in our documentation (https://duckdb.org/docs/sql/indexes)."
     ]
    }
   ],
   "source": [
    "df_materials = pl.read_excel(source=\"data/master_data.xlsx\",sheet_name='Materials')\n",
    "for material in df_materials.rows(named = True):\n",
    "    material = ud.Material().load_from_data(material)\n",
    "    ud.add_material(material=material)"
   ]
  },
  {
   "cell_type": "code",
   "execution_count": 6,
   "metadata": {},
   "outputs": [],
   "source": [
    "df_suppliers = pl.read_excel(source=\"data/master_data.xlsx\",sheet_name='Suppliers')\n",
    "for user in df_suppliers.rows(named = True):\n",
    "    ud.add_user(username=user['username'],role=user['role'])"
   ]
  },
  {
   "cell_type": "code",
   "execution_count": 7,
   "metadata": {},
   "outputs": [
    {
     "name": "stderr",
     "output_type": "stream",
     "text": [
      "Could not determine dtype for column 7, falling back to string\n",
      "Could not determine dtype for column 10, falling back to string\n"
     ]
    }
   ],
   "source": [
    "df_contracts = pl.read_excel(source=\"data/master_data.xlsx\",sheet_name='Contracts')\n",
    "for contract in df_contracts.rows(named = True):\n",
    "    contract = ud.Contract().load_from_data(contract)\n",
    "    ud.add_contract(contract=contract)"
   ]
  },
  {
   "cell_type": "code",
   "execution_count": 19,
   "metadata": {},
   "outputs": [],
   "source": [
    "df_sessions = pl.read_excel(source=\"data/master_data.xlsx\",sheet_name='Sessions')\n",
    "for session in df_sessions.rows(named = True):\n",
    "    session = ud.Session().load_from_data(session)\n",
    "    ud.add_session(session=session)"
   ]
  },
  {
   "cell_type": "code",
   "execution_count": 32,
   "metadata": {},
   "outputs": [
    {
     "data": {
      "text/html": [
       "<div><style>\n",
       ".dataframe > thead > tr,\n",
       ".dataframe > tbody > tr {\n",
       "  text-align: right;\n",
       "  white-space: pre-wrap;\n",
       "}\n",
       "</style>\n",
       "<small>shape: (5, 4)</small><table border=\"1\" class=\"dataframe\"><thead><tr><th>user_id</th><th>username</th><th>role</th><th>created_at</th></tr><tr><td>i32</td><td>str</td><td>str</td><td>datetime[μs]</td></tr></thead><tbody><tr><td>1</td><td>&quot;accenture&quot;</td><td>&quot;admin&quot;</td><td>2025-03-01 19:13:58.655</td></tr><tr><td>2</td><td>&quot;abc123&quot;</td><td>&quot;supplier&quot;</td><td>2025-03-01 19:13:58.699</td></tr><tr><td>3</td><td>&quot;xyz321&quot;</td><td>&quot;supplier&quot;</td><td>2025-03-01 19:13:58.754</td></tr><tr><td>4</td><td>&quot;cab 312&quot;</td><td>&quot;supplier&quot;</td><td>2025-03-01 19:13:58.816</td></tr><tr><td>5</td><td>&quot;monojit&quot;</td><td>&quot;supplier&quot;</td><td>2025-03-01 19:13:58.873</td></tr></tbody></table></div>"
      ],
      "text/plain": [
       "shape: (5, 4)\n",
       "┌─────────┬───────────┬──────────┬─────────────────────────┐\n",
       "│ user_id ┆ username  ┆ role     ┆ created_at              │\n",
       "│ ---     ┆ ---       ┆ ---      ┆ ---                     │\n",
       "│ i32     ┆ str       ┆ str      ┆ datetime[μs]            │\n",
       "╞═════════╪═══════════╪══════════╪═════════════════════════╡\n",
       "│ 1       ┆ accenture ┆ admin    ┆ 2025-03-01 19:13:58.655 │\n",
       "│ 2       ┆ abc123    ┆ supplier ┆ 2025-03-01 19:13:58.699 │\n",
       "│ 3       ┆ xyz321    ┆ supplier ┆ 2025-03-01 19:13:58.754 │\n",
       "│ 4       ┆ cab 312   ┆ supplier ┆ 2025-03-01 19:13:58.816 │\n",
       "│ 5       ┆ monojit   ┆ supplier ┆ 2025-03-01 19:13:58.873 │\n",
       "└─────────┴───────────┴──────────┴─────────────────────────┘"
      ]
     },
     "execution_count": 32,
     "metadata": {},
     "output_type": "execute_result"
    }
   ],
   "source": [
    "con = duckdb.connect(\"chatbot.duckdb\")\n",
    "df = con.execute(\"\"\"SELECT * FROM Users\"\"\").pl()\n",
    "con.close()\n",
    "df.head()"
   ]
  },
  {
   "cell_type": "code",
   "execution_count": 30,
   "metadata": {},
   "outputs": [
    {
     "data": {
      "text/html": [
       "<div><style>\n",
       ".dataframe > thead > tr,\n",
       ".dataframe > tbody > tr {\n",
       "  text-align: right;\n",
       "  white-space: pre-wrap;\n",
       "}\n",
       "</style>\n",
       "<small>shape: (5, 5)</small><table border=\"1\" class=\"dataframe\"><thead><tr><th>session_id</th><th>username</th><th>description</th><th>start_time</th><th>end_time</th></tr><tr><td>i32</td><td>str</td><td>str</td><td>datetime[μs]</td><td>datetime[μs]</td></tr></thead><tbody><tr><td>1</td><td>&quot;accenture&quot;</td><td>&quot;Material 2&quot;</td><td>2025-03-01 00:00:00</td><td>2025-03-01 00:00:00</td></tr><tr><td>2</td><td>&quot;accenture&quot;</td><td>&quot;Material 3&quot;</td><td>2025-03-01 00:00:00</td><td>2025-03-01 00:00:00</td></tr><tr><td>3</td><td>&quot;accenture&quot;</td><td>&quot;Material 4&quot;</td><td>2025-03-01 00:00:00</td><td>2025-03-01 00:00:00</td></tr><tr><td>4</td><td>&quot;accenture&quot;</td><td>&quot;Material 1&quot;</td><td>2025-03-01 00:00:00</td><td>2025-03-01 00:00:00</td></tr><tr><td>5</td><td>&quot;abc123&quot;</td><td>&quot;Material 8&quot;</td><td>2025-03-01 00:00:00</td><td>2025-03-01 00:00:00</td></tr></tbody></table></div>"
      ],
      "text/plain": [
       "shape: (5, 5)\n",
       "┌────────────┬───────────┬─────────────┬─────────────────────┬─────────────────────┐\n",
       "│ session_id ┆ username  ┆ description ┆ start_time          ┆ end_time            │\n",
       "│ ---        ┆ ---       ┆ ---         ┆ ---                 ┆ ---                 │\n",
       "│ i32        ┆ str       ┆ str         ┆ datetime[μs]        ┆ datetime[μs]        │\n",
       "╞════════════╪═══════════╪═════════════╪═════════════════════╪═════════════════════╡\n",
       "│ 1          ┆ accenture ┆ Material 2  ┆ 2025-03-01 00:00:00 ┆ 2025-03-01 00:00:00 │\n",
       "│ 2          ┆ accenture ┆ Material 3  ┆ 2025-03-01 00:00:00 ┆ 2025-03-01 00:00:00 │\n",
       "│ 3          ┆ accenture ┆ Material 4  ┆ 2025-03-01 00:00:00 ┆ 2025-03-01 00:00:00 │\n",
       "│ 4          ┆ accenture ┆ Material 1  ┆ 2025-03-01 00:00:00 ┆ 2025-03-01 00:00:00 │\n",
       "│ 5          ┆ abc123    ┆ Material 8  ┆ 2025-03-01 00:00:00 ┆ 2025-03-01 00:00:00 │\n",
       "└────────────┴───────────┴─────────────┴─────────────────────┴─────────────────────┘"
      ]
     },
     "execution_count": 30,
     "metadata": {},
     "output_type": "execute_result"
    }
   ],
   "source": [
    "con = duckdb.connect(\"chatbot.duckdb\")\n",
    "df = con.execute(\"\"\"SELECT ss.session_id, u.username,m.description, ss.start_time, ss.end_time \n",
    "        FROM Sessions ss\n",
    "        LEFT JOIN Users u on ss.user_id = u.user_id\n",
    "        LEFT JOIN Materials m on ss.material_id = m.material_id\n",
    "        order by ss.start_time desc\"\"\").pl()\n",
    "con.close()\n",
    "df.head()"
   ]
  },
  {
   "cell_type": "code",
   "execution_count": 27,
   "metadata": {},
   "outputs": [
    {
     "data": {
      "text/html": [
       "<div><style>\n",
       ".dataframe > thead > tr,\n",
       ".dataframe > tbody > tr {\n",
       "  text-align: right;\n",
       "  white-space: pre-wrap;\n",
       "}\n",
       "</style>\n",
       "<small>shape: (4, 5)</small><table border=\"1\" class=\"dataframe\"><thead><tr><th>session_id</th><th>username</th><th>description</th><th>start_time</th><th>end_time</th></tr><tr><td>i32</td><td>str</td><td>str</td><td>datetime[μs]</td><td>datetime[μs]</td></tr></thead><tbody><tr><td>4</td><td>&quot;accenture&quot;</td><td>&quot;Material 1&quot;</td><td>2025-03-01 00:00:00</td><td>2025-03-01 00:00:00</td></tr><tr><td>1</td><td>&quot;accenture&quot;</td><td>&quot;Material 2&quot;</td><td>2025-03-01 00:00:00</td><td>2025-03-01 00:00:00</td></tr><tr><td>2</td><td>&quot;accenture&quot;</td><td>&quot;Material 3&quot;</td><td>2025-03-01 00:00:00</td><td>2025-03-01 00:00:00</td></tr><tr><td>3</td><td>&quot;accenture&quot;</td><td>&quot;Material 4&quot;</td><td>2025-03-01 00:00:00</td><td>2025-03-01 00:00:00</td></tr></tbody></table></div>"
      ],
      "text/plain": [
       "shape: (4, 5)\n",
       "┌────────────┬───────────┬─────────────┬─────────────────────┬─────────────────────┐\n",
       "│ session_id ┆ username  ┆ description ┆ start_time          ┆ end_time            │\n",
       "│ ---        ┆ ---       ┆ ---         ┆ ---                 ┆ ---                 │\n",
       "│ i32        ┆ str       ┆ str         ┆ datetime[μs]        ┆ datetime[μs]        │\n",
       "╞════════════╪═══════════╪═════════════╪═════════════════════╪═════════════════════╡\n",
       "│ 4          ┆ accenture ┆ Material 1  ┆ 2025-03-01 00:00:00 ┆ 2025-03-01 00:00:00 │\n",
       "│ 1          ┆ accenture ┆ Material 2  ┆ 2025-03-01 00:00:00 ┆ 2025-03-01 00:00:00 │\n",
       "│ 2          ┆ accenture ┆ Material 3  ┆ 2025-03-01 00:00:00 ┆ 2025-03-01 00:00:00 │\n",
       "│ 3          ┆ accenture ┆ Material 4  ┆ 2025-03-01 00:00:00 ┆ 2025-03-01 00:00:00 │\n",
       "└────────────┴───────────┴─────────────┴─────────────────────┴─────────────────────┘"
      ]
     },
     "execution_count": 27,
     "metadata": {},
     "output_type": "execute_result"
    }
   ],
   "source": [
    "ud.pull_sessions_by_user('accenture')"
   ]
  },
  {
   "cell_type": "code",
   "execution_count": 14,
   "metadata": {},
   "outputs": [
    {
     "data": {
      "text/plain": [
       "{'contract_id': 2,\n",
       " 'user_id': 1,\n",
       " 'material_id': 2,\n",
       " 'contract_details': None,\n",
       " 'price_per_unit': 104.0,\n",
       " 'quantity': 10144.0,\n",
       " 'bundling_unit': 20288.0,\n",
       " 'bundling_amount': None,\n",
       " 'bundling_discount': 5.0,\n",
       " 'payment_term': 'NET60',\n",
       " 'delivery_timeline': 17.0,\n",
       " 'contract_period': 2.0,\n",
       " 'contract_inflation': 1.0,\n",
       " 'rebates_threshold_unit': 13085.0,\n",
       " 'rebates_discount': 2.0,\n",
       " 'warranty': 1.0,\n",
       " 'incoterms': 'EXW',\n",
       " 'created_at': datetime.datetime(2025, 3, 1, 10, 6, 11, 296000),\n",
       " 'expiry_tmstp': datetime.datetime(2025, 3, 1, 10, 6, 11, 296000)}"
      ]
     },
     "execution_count": 14,
     "metadata": {},
     "output_type": "execute_result"
    }
   ],
   "source": [
    "material = ud.get_material_info(material_id = 2)\n",
    "contract = ud.get_last_contract(user_id=1,material_id=2)\n",
    "MIN_LEVERS = {\n",
    "    'price_per_unit':material['min_price_per_unit'],\n",
    "    'quantity': material['min_quantity']\n",
    "}\n",
    "MAX_LEVERS = {\n",
    "    'price_per_unit':material['max_price_per_unit'],\n",
    "    'quantity': material['max_quantity']\n",
    "}\n",
    "contract"
   ]
  },
  {
   "cell_type": "code",
   "execution_count": null,
   "metadata": {},
   "outputs": [
    {
     "data": {
      "text/plain": [
       "[(4,), (1,), (3,), (2,), (5,)]"
      ]
     },
     "execution_count": 29,
     "metadata": {},
     "output_type": "execute_result"
    }
   ],
   "source": [
    "conn = duckdb.connect('chatbot.duckdb')\n",
    "matrls = ud.list_materials(user_id=1,db_connection=conn)\n",
    "conn.close()"
   ]
  }
 ],
 "metadata": {
  "kernelspec": {
   "display_name": ".venv",
   "language": "python",
   "name": "python3"
  },
  "language_info": {
   "codemirror_mode": {
    "name": "ipython",
    "version": 3
   },
   "file_extension": ".py",
   "mimetype": "text/x-python",
   "name": "python",
   "nbconvert_exporter": "python",
   "pygments_lexer": "ipython3",
   "version": "3.12.7"
  }
 },
 "nbformat": 4,
 "nbformat_minor": 2
}
