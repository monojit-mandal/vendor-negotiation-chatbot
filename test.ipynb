{
 "cells": [
  {
   "cell_type": "code",
   "execution_count": 1,
   "metadata": {},
   "outputs": [],
   "source": [
    "from langchain.chat_models import AzureChatOpenAI\n",
    "from langchain.prompts import PromptTemplate\n",
    "from langchain.chains import LLMChain\n",
    "import os\n",
    "import polars as pl\n",
    "import random\n",
    "from dotenv import load_dotenv\n",
    "load_dotenv()\n",
    "from langchain_core.prompts import ChatPromptTemplate, MessagesPlaceholder\n",
    "from langchain_core.messages import AIMessage,HumanMessage\n",
    "from langchain.output_parsers import ResponseSchema,StructuredOutputParser\n",
    "from typing import Dict,List,Tuple\n",
    "import utils\n",
    "import utils_model as um\n",
    "%load_ext autoreload\n",
    "%autoreload 2"
   ]
  },
  {
   "cell_type": "code",
   "execution_count": 2,
   "metadata": {},
   "outputs": [
    {
     "name": "stderr",
     "output_type": "stream",
     "text": [
      "C:\\Users\\monojit.mandal\\AppData\\Local\\Temp\\ipykernel_10152\\2458642598.py:1: LangChainDeprecationWarning: The class `AzureChatOpenAI` was deprecated in LangChain 0.0.10 and will be removed in 1.0. An updated version of the class exists in the :class:`~langchain-openai package and should be used instead. To use it run `pip install -U :class:`~langchain-openai` and import as `from :class:`~langchain_openai import AzureChatOpenAI``.\n",
      "  model = AzureChatOpenAI(\n"
     ]
    }
   ],
   "source": [
    "model = AzureChatOpenAI(\n",
    "    deployment_name= \"gpt-4o\",\n",
    "    api_key=os.getenv('AZURE_OPENAI_API_KEY'),\n",
    "    api_version=\"2023-09-15-preview\",\n",
    "    azure_endpoint=\"https://acsstscdamoai02.openai.azure.com/\"\n",
    ")"
   ]
  },
  {
   "cell_type": "markdown",
   "metadata": {},
   "source": [
    "#### Extract Levers from Offer"
   ]
  },
  {
   "cell_type": "code",
   "execution_count": 3,
   "metadata": {},
   "outputs": [
    {
     "name": "stdout",
     "output_type": "stream",
     "text": [
      "Extracted levers:  {'price_per_unit': 100, 'quantity': 10000, 'bundling_unit': None, 'bundling_amount': None, 'bundling_discount': None, 'payment_term': 'NET10', 'payment_term_markup': 0, 'delivery_timeline': 7, 'contract_period': 1, 'contract_inflation': 0, 'rebates_threshold_unit': 11000, 'rebates_discount': 1, 'warranty': 1, 'incoterms': 'FOB'}\n"
     ]
    },
    {
     "data": {
      "text/plain": [
       "{'price_per_unit': 100,\n",
       " 'quantity': 10000,\n",
       " 'bundling_unit': None,\n",
       " 'bundling_amount': None,\n",
       " 'bundling_discount': None,\n",
       " 'payment_term': 'NET10',\n",
       " 'payment_term_markup': 0,\n",
       " 'delivery_timeline': 7,\n",
       " 'contract_period': 1,\n",
       " 'contract_inflation': 0,\n",
       " 'rebates_threshold_unit': 11000,\n",
       " 'rebates_discount': 1,\n",
       " 'warranty': 1,\n",
       " 'incoterms': 'FOB'}"
      ]
     },
     "execution_count": 3,
     "metadata": {},
     "output_type": "execute_result"
    }
   ],
   "source": [
    "offer_text = \"\"\"\n",
    "Price per unit: $100\n",
    "Quantity: 10,000 units\n",
    "Bundling: No bundling option.\n",
    "Payment Terms: NET10, no option for extending to NET30.\n",
    "Delivery Timelines: 7 days (faster).\n",
    "Contract Period Length: 1 year, with the option to renew at the same price.\n",
    "Rebates: 1% rebate on orders above 11,000 units.\n",
    "Warranties: 1-year standard warranty with an option to extend to 3 years for an additional $5/unit.\n",
    "Incoterms: FOB (Free on Board) – buyer is responsible for customs and delivery.\n",
    "\"\"\"\n",
    "utils.extract_levers_from_text(\n",
    "    offer_text = offer_text,\n",
    "    model = model,\n",
    "    example_data=pl.read_csv('data/sample_offers.csv')\n",
    ")"
   ]
  },
  {
   "cell_type": "code",
   "execution_count": null,
   "metadata": {},
   "outputs": [],
   "source": []
  },
  {
   "cell_type": "code",
   "execution_count": 5,
   "metadata": {},
   "outputs": [
    {
     "name": "stdout",
     "output_type": "stream",
     "text": [
      "TCO with existing offer:  1070178.08\n",
      "Randomly selected levers are:  ['Unit Price']\n",
      "Randomly selected levers are:  ['Unit Price']\n",
      "Randomly selected levers are:  ['Unit Price']\n"
     ]
    },
    {
     "data": {
      "text/plain": [
       "{'offers': ['Unit Price: $ 111.5\\nQuantity: 10,000 units\\nBundling: No bundling option.\\nPayment Terms: NET30 with a 3% markup if NET60 is requested.\\nDelivery Timelines: 7 days.\\nContract Period Length: 1 year, with the option to renew at the same price.\\nRebates: 1% rebate on orders above 11,000 units.\\nWarranties: 1-year standard warranty with an option to extend to 3 years for an additional $5/unit.\\nIncoterms: FOB (Free on Board) - buyer is responsible for customs and delivery.',\n",
       "  'Unit Price: $ 109.50\\nQuantity: 10,000 units\\nBundling: No bundling option.\\nPayment Terms: NET10, no option for extending to NET30.\\nDelivery Timelines: 7 days.\\nContract Period Length: 1 year, with the option to renew at the same price.\\nRebates: 1% rebate on orders above 11,000 units.\\nWarranties: 1-year standard warranty with an option to extend to 3 years for an additional $5/unit.\\nIncoterms: FOB (Free on Board) - buyer is responsible for customs and delivery.',\n",
       "  'Unit Price: $ 117\\nQuantity: 10,000 units\\nBundling: No bundling option.\\nPayment Terms: NET10, no option for extending to NET30.\\nDelivery Timelines: 7 days.\\nContract Period Length: 1 year, with the option to renew at the same price.\\nRebates: 1% rebate on orders above 11,000 units.\\nWarranties: 1-year standard warranty with an option to extend to 3 years for an additional $5/unit.\\nIncoterms: FOB (Free on Board) - buyer is responsible for customs and delivery.'],\n",
       " 'status': 'live'}"
      ]
     },
     "execution_count": 5,
     "metadata": {},
     "output_type": "execute_result"
    }
   ],
   "source": [
    "base_offer = '''\n",
    "Price per unit: $100\n",
    "Quantity: 10,000 units\n",
    "Bundling: No bundling option.\n",
    "Payment Terms: NET10, no option for extending to NET30.\n",
    "Delivery Timelines: 7 days.\n",
    "Contract Period Length: 1 year, with the option to renew at the same price.\n",
    "Rebates: 1% rebate on orders above 11,000 units.\n",
    "Warranties: 1-year standard warranty with an option to extend to 3 years for an additional $5/unit.\n",
    "Incoterms: FOB (Free on Board) - buyer is responsible for customs and delivery.\n",
    "'''\n",
    "MIN_LEVERS = {\n",
    "    'Unit Price':100,\n",
    "    'Quantity': 10000\n",
    "}\n",
    "MAX_LEVERS = {\n",
    "    'Unit Price':120,\n",
    "    'Quantity': 10000\n",
    "}\n",
    "levers = [\n",
    "    'Unit Price','Bundling','Payment Term',\n",
    "    'Delivery Timeline','Rebates','Warranties',\n",
    "    'Incoterms'\n",
    "]\n",
    "supplier_offer = '''\n",
    "Price per unit: $120\n",
    "Quantity: 10,000 units\n",
    "Bundling: No bundling option.\n",
    "Payment Terms: NET10, no option for extending to NET30.\n",
    "Delivery Timelines: 7 days.\n",
    "Contract Period Length: 1 year, with the option to renew at the same price.\n",
    "Rebates: 1% rebate on orders above 11,000 units.\n",
    "Warranties: 1-year standard warranty with an option to extend to 3 years for an additional $5/unit.\n",
    "Incoterms: DDP.\n",
    "'''\n",
    "um.generate_offer_using_LLM(\n",
    "    base_offer = base_offer,\n",
    "    min_levers = MIN_LEVERS,\n",
    "    max_levers = MAX_LEVERS,\n",
    "    step = 3,\n",
    "    TCO_hike_threshold_pct = 30,\n",
    "    model = model,\n",
    "    supplier_offer = supplier_offer,\n",
    "    levers = ['Unit Price','Unit Price','Unit Price']\n",
    ")\n",
    "# utils.understand_priority_levers(\n",
    "#     existing_offer=base_offer,\n",
    "#     supplier_offer=supplier_offer,\n",
    "#     model = model\n",
    "# )['Levers']"
   ]
  },
  {
   "cell_type": "markdown",
   "metadata": {},
   "source": [
    "#### Generate equivalent offers using LLM"
   ]
  },
  {
   "cell_type": "code",
   "execution_count": 38,
   "metadata": {},
   "outputs": [
    {
     "name": "stdout",
     "output_type": "stream",
     "text": [
      "TCO with existing offer:  1020178.08\n",
      "{'Thoughts': 'The goal is to optimize the offer to ensure the annual cost of the contract is slightly less than $1,173,204.792 but greater than $1,020,178.08. I will focus on adjusting the unit price, warranty, and rebates while considering the cost implications of delivery timelines and incoterms. The safety stock and holding cost will also be considered since the delivery timeline impacts the safety stock level.', 'Offer': 'Unit Price: $ 97\\nQuantity: 10,000 units\\nBundling: No bundling option.\\nPayment Terms: NET10, no option for extending to NET30.\\nDelivery Timelines: 7 days (faster).\\nContract Period Length: 1 year, with the option to renew at the same price.\\nRebates: 2% rebate on orders above 11,000 units.\\nWarranties: 1-year standard warranty with an option to extend to 3 years for an additional $3/unit.\\nIncoterms: FOB (Free on Board) – buyer is responsible for customs and delivery.', 'Annual Cost of Contract ($)': 1124000.0}\n",
      "{'Thoughts': \"The supplier's existing offer has a price per unit of $100 with no bundling options. The payment terms are NET10, which means we have no additional income on delayed payment, and delivery is fast at 7 days. The rebate offered is 1% on orders above 11,000 units, but the quantity is fixed at 10,000 units, so the current rebate is ineffective. The incoterm is FOB, implying an additional cost of $15,000 for customs and delivery. Safety stock days are calculated as 1.5 times the delivery timeline, equating to 10.5 days. The goal is to adjust the rebates to achieve an annual contract cost slightly less than $1,173,204.792 but greater than $1,020,178.08.\", 'Offer': 'Unit Price: $ 100\\nQuantity: 10,000 units\\nBundling: No bundling option.\\nPayment Terms: NET10\\nDelivery Timelines: 7 days.\\nContract Period Length: 1 year, with the option to renew at the same price.\\nRebates: 3% rebate on orders above 10,000 units.\\nWarranties: 1-year standard warranty with an option to extend to 3 years for an additional $5/unit.\\nIncoterms: FOB (Free on Board) – buyer is responsible for customs and delivery.', 'Annual Cost of Contract ($)': 1165000.0}\n",
      "{'Thoughts': \"The current arrangement provides limited flexibility with no bundling options and fixed payment terms (NET10), which does not allow for financial benefits through extended payment terms. The faster delivery timeline of 7 days is beneficial in reducing safety stock requirements. However, the current incoterm FOB implies additional costs for customs and delivery, which need to be considered. Since the contract period is for 1 year with an option for renewal at the same price, this gives stability but doesn't provide leverage for negotiating lower prices in the future. The only lever we can adjust is the rebate, which is currently 1% for orders above 11,000 units. Increasing the rebate for the current quantity of 10,000 units can help reduce the annual cost of the contract while still respecting the minimum required annual cost.\", 'Offer': 'Unit Price: $100\\nQuantity: 10,000 units\\nRebates: 2% rebate if the purchase volume is exactly 10,000 units in the first year.\\nPayment Terms: NET10\\nDelivery Timelines: 7 days.\\nContract Period Length: 1 year, with an option to renew at the same price.\\nWarranties: 1-year standard warranty with an option to extend to 3 years for an additional $5/unit.\\nIncoterms: FOB (Free on Board) – buyer is responsible for customs and delivery.', 'Annual Cost of Contract ($)': 1159600.0}\n"
     ]
    },
    {
     "data": {
      "text/plain": [
       "{'offers': ['Unit Price: $ 97\\nQuantity: 10,000 units\\nBundling: No bundling option.\\nPayment Terms: NET10, no option for extending to NET30.\\nDelivery Timelines: 7 days (faster).\\nContract Period Length: 1 year, with the option to renew at the same price.\\nRebates: 2% rebate on orders above 11,000 units.\\nWarranties: 1-year standard warranty with an option to extend to 3 years for an additional $3/unit.\\nIncoterms: FOB (Free on Board) – buyer is responsible for customs and delivery.',\n",
       "  'Unit Price: $ 100\\nQuantity: 10,000 units\\nBundling: No bundling option.\\nPayment Terms: NET10\\nDelivery Timelines: 7 days.\\nContract Period Length: 1 year, with the option to renew at the same price.\\nRebates: 3% rebate on orders above 10,000 units.\\nWarranties: 1-year standard warranty with an option to extend to 3 years for an additional $5/unit.\\nIncoterms: FOB (Free on Board) – buyer is responsible for customs and delivery.',\n",
       "  'Unit Price: $100\\nQuantity: 10,000 units\\nRebates: 2% rebate if the purchase volume is exactly 10,000 units in the first year.\\nPayment Terms: NET10\\nDelivery Timelines: 7 days.\\nContract Period Length: 1 year, with an option to renew at the same price.\\nWarranties: 1-year standard warranty with an option to extend to 3 years for an additional $5/unit.\\nIncoterms: FOB (Free on Board) – buyer is responsible for customs and delivery.'],\n",
       " 'status': 'live'}"
      ]
     },
     "execution_count": 38,
     "metadata": {},
     "output_type": "execute_result"
    }
   ],
   "source": [
    "base_offer = \"\"\"\n",
    "Price per unit: $100\n",
    "Quantity: 10,000 units\n",
    "Bundling: No bundling option.\n",
    "Payment Terms: NET10, no option for extending to NET30.\n",
    "Delivery Timelines: 7 days (faster).\n",
    "Contract Period Length: 1 year, with the option to renew at the same price.\n",
    "Rebates: 1% rebate on orders above 11,000 units.\n",
    "Warranties: 1-year standard warranty with an option to extend to 3 years for an additional $5/unit.\n",
    "Incoterms: FOB (Free on Board) – buyer is responsible for customs and delivery.\n",
    "\"\"\"\n",
    "supplier_offer = \"\"\"\n",
    "Price per unit: $200\n",
    "Quantity: 10,000 units\n",
    "Bundling: No bundling option.\n",
    "Payment Terms: NET10, no option for extending to NET30.\n",
    "Delivery Timelines: 7 days (faster).\n",
    "Contract Period Length: 1 year, with the option to renew at the same price.\n",
    "Rebates: 1% rebate on orders above 11,000 units.\n",
    "Warranties: 1-year standard warranty with an option to extend to 3 years for an additional $5/unit.\n",
    "Incoterms: DDP.\n",
    "\"\"\"\n",
    "min_levers = {'Unit Price':0,'Quantity':10000}\n",
    "max_levers = {'Unit Price':120,'Quantity':10000}\n",
    "step=3\n",
    "offers = um.generate_offer_using_LLM(\n",
    "    base_offer = base_offer,\n",
    "    min_levers = min_levers,\n",
    "    max_levers = max_levers,\n",
    "    step = step,\n",
    "    TCO_hike_threshold_pct = 30,\n",
    "    model = model,\n",
    "    supplier_offer = supplier_offer,\n",
    "    levers = [\n",
    "        'Unit Price','Bundling','Payment Term',\n",
    "        'Delivery Timeline','Rebates','Warranties',\n",
    "        'Incoterms'\n",
    "    ]\n",
    ")\n",
    "offers"
   ]
  },
  {
   "cell_type": "code",
   "execution_count": 23,
   "metadata": {},
   "outputs": [
    {
     "name": "stdout",
     "output_type": "stream",
     "text": [
      "('Unit Price: $100\\n'\n",
      " 'Quantity: 10,000 units\\n'\n",
      " 'Bundling: If ordered with additional safety gear ($20,000 total), a 5% '\n",
      " 'discount on the total contract.\\n'\n",
      " 'Payment Terms: NET30 with a 3% markup if NET60 is requested.\\n'\n",
      " 'Delivery Timelines: 7 days.\\n'\n",
      " 'Contract Period Length: 1 year with an option to renew at the same price.\\n'\n",
      " 'Rebates: 1% rebate if the purchase volume exceeds 11,000 units.\\n'\n",
      " 'Warranties: 1-year standard warranty with an option to extend to 3 years for '\n",
      " 'an additional $5/unit.\\n'\n",
      " 'Incoterms: FOB (Free on Board) – buyer is responsible for customs and '\n",
      " 'delivery.')\n"
     ]
    }
   ],
   "source": [
    "from pprint import pprint\n",
    "pprint(offers['offers'][2])"
   ]
  },
  {
   "cell_type": "markdown",
   "metadata": {},
   "source": [
    "#### Offer Generator Agent"
   ]
  },
  {
   "cell_type": "code",
   "execution_count": null,
   "metadata": {},
   "outputs": [],
   "source": [
    "# def generate_new_offer_using_LLM(\n",
    "#     existing_offer: str,\n",
    "#     TCO_min: float,\n",
    "#     TCO_new: float,\n",
    "#     levers: List[str],\n",
    "#     model: AzureChatOpenAI\n",
    "# ):\n",
    "#     instruction_promt = \"\"\"\n",
    "#     Suppose you are an experienced Negotiator,a mathematical and logical expert for a Company. \n",
    "#     Your job is to generate an offers to Suppliers considering \n",
    "#     the annual cost of contract ($) same which will be instructed to you.\n",
    "\n",
    "#     Your response will be in json format with keys:\n",
    "#     - 'Thoughts': --keep your thoughts\n",
    "#     - 'Offer': --keep your first offer text\n",
    "#     - 'Annual Cost of Contract ($)' --annual cost intructed to you\n",
    "\n",
    "#     A sample offer looks like this. Please note that this offer \n",
    "#     is just a sample offer. So the numbers are not exact here:\n",
    "#     Unit Price: $ 95\n",
    "#     Quantity: 10,000 units\n",
    "#     Bundling: If ordered with additional safety gear ($20,000 total), a 5% discount on the total contract.\n",
    "#     Payment Terms: NET30 with a 3% markup if NET60 is requested.\n",
    "#     Delivery Timelines: 10 days.\n",
    "#     Contract Period Length: 2 years with a 3% price increase in the second year.\n",
    "#     Rebates: 2% rebate if the purchase volume exceeds 12,000 units in the first year.\n",
    "#     Warranties: 1-year standard warranty.\n",
    "#     Incoterms: DDP (Delivered Duty Paid, supplier manages all shipping, customs, and delivery logistics).\n",
    "\n",
    "#     Also keep in mind of additional informations\n",
    "#     1. When Payment term is NETxx it means\n",
    "#     Supplier need payment within xx days, similarly when it payment term is NETyy it means \n",
    "#     Supplier need payment within yy days, considering rate of interest 6% when NETxx is chosen there\n",
    "#     will be extra benefits since you will have (xx-yy) days to keep the money and generate 6% income. \n",
    "#     Please consider it in your calculation\n",
    "#     2. There are extra cost implication when any incoterm is chosen. please check the cost details\n",
    "#     for various incoterms:\n",
    "#     EXW: $ 21000\n",
    "#     FCA: $ 19000\n",
    "#     FAS: $ 17000\n",
    "#     FOB: $ 15000\n",
    "#     CFR: $ 13000\n",
    "#     CI: $ 11000\n",
    "#     CPT: $ 9000\n",
    "#     CIP: $ 7000\n",
    "#     DAP: $ 5000\n",
    "#     DPU: $ 3000\n",
    "#     DDP: $0\n",
    "#     3. If the delivery time is xx days then safety stock days is (1.5*xx) days.\n",
    "#     Considering quantity as demand, Safety Stock Price = (quantity/365)*(price)*(safety stock days) $\n",
    "#     Considering holding cost rate as 18%, Holding Cost = Safety Stock Price * 18/100 $\n",
    "#     \"\"\"\n",
    "#     prompt = ChatPromptTemplate.from_messages(\n",
    "#         [\n",
    "#             (\n",
    "#                 \"system\",\n",
    "#                 instruction_promt\n",
    "#             ),\n",
    "#             MessagesPlaceholder(variable_name=\"messages\"),\n",
    "#         ]\n",
    "#     )\n",
    "\n",
    "#     question = f\"\"\"\n",
    "#     Consider the existing offer from Supplier\n",
    "#     {existing_offer}\n",
    "#     please generate your response in the required format given \n",
    "#     annual cost of contract $ {TCO_new}. It is absolutely okay \n",
    "#     even if annual cost of contract is slightly less than this. \n",
    "#     But the annual cost of contract should be greater tham $ {TCO_min}\n",
    "#     You can change only these levers: {'.'.join(levers)}\n",
    "#     \"\"\"\n",
    "\n",
    "#     response_schemas = [\n",
    "#         ResponseSchema(name=\"Thoughts\", description=\"Thought of LLM\"),\n",
    "#         ResponseSchema(name=\"Offer\", description=\"Thought of LLM\"),\n",
    "#         ResponseSchema(name=\"Annual Cost of Contract ($)\",description=\"Annual cost of contract\"),\n",
    "#     ]\n",
    "\n",
    "#     output_parser = StructuredOutputParser.from_response_schemas(response_schemas)\n",
    "\n",
    "#     tco_calculator = prompt | model | output_parser\n",
    "#     response = tco_calculator.invoke(\n",
    "#         {\n",
    "#             \"messages\": [HumanMessage(content=question)],\n",
    "#         }\n",
    "#     )\n",
    "#     return response"
   ]
  },
  {
   "cell_type": "code",
   "execution_count": null,
   "metadata": {},
   "outputs": [
    {
     "name": "stdout",
     "output_type": "stream",
     "text": [
      "Unit Price: $95\n",
      "Quantity: 10,000 units\n",
      "Bundling: If ordered with an additional service package (e.g., extended warranty or maintenance) at $15,000 total, a 5% discount on the total contract.\n",
      "Payment Terms: NET10\n",
      "Delivery Timelines: 7 days.\n",
      "Contract Period Length: 1 year, with the option to renew at the same price.\n",
      "Rebates: 1% rebate if the purchase volume exceeds 11,000 units.\n",
      "Warranties: 1-year standard warranty.\n",
      "Incoterms: DDP (Delivered Duty Paid, supplier manages all shipping, customs, and delivery logistics).\n",
      "Unit Price: $100\n",
      "Quantity: 10,000 units\n",
      "Bundling: No bundling option.\n",
      "Payment Terms: NET10, with no option for extending to NET30.\n",
      "Delivery Timelines: 10 days.\n",
      "Contract Period Length: 1 year, with the option to renew at the same price.\n",
      "Rebates: 1% rebate on orders above 11,000 units.\n",
      "Warranties: 1-year standard warranty with an option to extend to 3 years for an additional $5/unit.\n",
      "Incoterms: DDP (Delivered Duty Paid, supplier manages all shipping, customs, and delivery logistics).\n",
      "Unit Price: $ 100\n",
      "Quantity: 10,000 units\n",
      "Bundling: No bundling option.\n",
      "Payment Terms: NET10, no option for extending to NET30.\n",
      "Delivery Timelines: 10 days.\n",
      "Contract Period Length: 1 year, with the option to renew at the same price.\n",
      "Rebates: 1% rebate on orders above 11,000 units.\n",
      "Warranties: 1-year standard warranty with an option to extend to 3 years for an additional $5/unit.\n",
      "Incoterms: DDP (Delivered Duty Paid, supplier manages all shipping, customs, and delivery logistics).\n"
     ]
    },
    {
     "data": {
      "text/plain": [
       "['Unit Price: $95\\nQuantity: 10,000 units\\nBundling: If ordered with an additional service package (e.g., extended warranty or maintenance) at $15,000 total, a 5% discount on the total contract.\\nPayment Terms: NET10\\nDelivery Timelines: 7 days.\\nContract Period Length: 1 year, with the option to renew at the same price.\\nRebates: 1% rebate if the purchase volume exceeds 11,000 units.\\nWarranties: 1-year standard warranty.\\nIncoterms: DDP (Delivered Duty Paid, supplier manages all shipping, customs, and delivery logistics).',\n",
       " 'Unit Price: $100\\nQuantity: 10,000 units\\nBundling: No bundling option.\\nPayment Terms: NET10, with no option for extending to NET30.\\nDelivery Timelines: 10 days.\\nContract Period Length: 1 year, with the option to renew at the same price.\\nRebates: 1% rebate on orders above 11,000 units.\\nWarranties: 1-year standard warranty with an option to extend to 3 years for an additional $5/unit.\\nIncoterms: DDP (Delivered Duty Paid, supplier manages all shipping, customs, and delivery logistics).',\n",
       " 'Unit Price: $ 100\\nQuantity: 10,000 units\\nBundling: No bundling option.\\nPayment Terms: NET10, no option for extending to NET30.\\nDelivery Timelines: 10 days.\\nContract Period Length: 1 year, with the option to renew at the same price.\\nRebates: 1% rebate on orders above 11,000 units.\\nWarranties: 1-year standard warranty with an option to extend to 3 years for an additional $5/unit.\\nIncoterms: DDP (Delivered Duty Paid, supplier manages all shipping, customs, and delivery logistics).']"
      ]
     },
     "execution_count": 112,
     "metadata": {},
     "output_type": "execute_result"
    }
   ],
   "source": [
    "TCO_min = 1360000\n",
    "TCO_new = 1400000\n",
    "existing_offer = \"\"\"\n",
    "Price per unit: $100\n",
    "Quantity: 10,000 units\n",
    "Bundling: No bundling option.\n",
    "Payment Terms: NET10, no option for extending to NET30.\n",
    "Delivery Timelines: 7 days (faster).\n",
    "Contract Period Length: 1 year, with the option to renew at the same price.\n",
    "Rebates: 1% rebate on orders above 11,000 units.\n",
    "Warranties: 1-year standard warranty with an option to extend to 3 years for an additional $5/unit.\n",
    "Incoterms: FOB (Free on Board) – buyer is responsible for customs and delivery.\n",
    "\"\"\"\n",
    "offers = utils.generate_eqv_offers_using_LLM(\n",
    "    existing_offer = existing_offer,\n",
    "    TCO_new = TCO_new,\n",
    "    TCO_min = TCO_min,\n",
    "    min_levers={\n",
    "        'Quantity': 10000,\n",
    "        'Unit Price': 90\n",
    "    },\n",
    "    max_levers={\n",
    "        'Quantity': 20000,\n",
    "        'Unit Price': 200\n",
    "    },\n",
    "    n_offers = 3,\n",
    "    model = model\n",
    ")\n",
    "offers"
   ]
  },
  {
   "cell_type": "markdown",
   "metadata": {},
   "source": [
    "#### TCO calculator Agent"
   ]
  },
  {
   "cell_type": "code",
   "execution_count": null,
   "metadata": {},
   "outputs": [],
   "source": [
    "TCO_promt = \"\"\"\n",
    "Suppose you are an experienced Negotiator,a mathematical and logical expert for a Company. \n",
    "Your job is to find out annual contract cost checking Supplier's offer input from\n",
    "your company.\n",
    "\n",
    "Your response will be in json format with keys: 'Thoughts','Annual Cost of Contract ($)'\n",
    "'Thoughts' -- Keep your step by step thoughts\n",
    "'Annual Cost of Contract ($)' -- Keep only numerical number of annual cost of contract\n",
    "\n",
    "A sample Supplier's offer looks like this. Please note that this offer \n",
    "is just a sample offer. So the numbers are not exact here:\n",
    "Price per unit: $ 95\n",
    "Quantity: 10,000 units\n",
    "Bundling: If ordered with additional safety gear ($20,000 total), a 5% discount on the total contract.\n",
    "Payment Terms: NET30 with a 3% markup if NET60 is requested.\n",
    "Delivery Timelines: 10 days.\n",
    "Contract Period Length: 2 years with a 3% price increase in the second year.\n",
    "Rebates: 2% rebate if the purchase volume exceeds 12,000 units in the first year.\n",
    "Warranties: 1-year standard warranty.\n",
    "Incoterms: DDP (Delivered Duty Paid, supplier manages all shipping, customs, and delivery logistics).\n",
    "\n",
    "Also keep in mind of additional informations\n",
    "1. When Payment term is NETxx it means\n",
    "Supplier need payment within xx days, similarly when it payment term is NETyy it means \n",
    "Supplier need payment within yy days, considering rate of interest 6% when NETxx is chosen there\n",
    "will be extra benefits since you will have (xx-yy) days to keep the money and generate 6% income. \n",
    "Please consider it in your calculation\n",
    "2. There are extra cost implication when any incoterm is chosen. please check the cost details\n",
    "for various incoterms:\n",
    "EXW: $ 21000\n",
    "FCA: $ 19000\n",
    "FAS: $ 17000\n",
    "FOB: $ 15000\n",
    "CFR: $ 13000\n",
    "CI: $ 11000\n",
    "CPT: $ 9000\n",
    "CIP: $ 7000\n",
    "DAP: $ 5000\n",
    "DPU: $ 3000\n",
    "DDP: $0\n",
    "3. If the delivery time is xx days then safety stock days is (1.5*xx) days.\n",
    "Considering quantity as demand, Safety Stock Price = (quantity/365)*(price)*(safety stock days) $\n",
    "Considering holding cost rate as 18%, Holding Cost = Safety Stock Price * 18/100 $\n",
    "\"\"\""
   ]
  },
  {
   "cell_type": "code",
   "execution_count": 14,
   "metadata": {},
   "outputs": [
    {
     "data": {
      "text/plain": [
       "{'Thoughts': ['1. Calculate the base cost for 11,000 units at $100 per unit.',\n",
       "  \"2. No bundling or discount applies as per the supplier's offer.\",\n",
       "  '3. Payment terms are NET10, no extra financial benefit from NET30.',\n",
       "  '4. Calculate the delivery cost for FOB, which is $15,000 as per the incoterms cost list.',\n",
       "  '5. Determine the safety stock costs: Delivery time is 7 days, so safety stock days = 1.5 * 7 = 10.5 days.',\n",
       "  '6. Calculate the Safety Stock Price: (11000 units / 365 days) * $100/unit * 10.5 days.',\n",
       "  '7. Calculate the Holding Cost: Safety Stock Price * 18/100.',\n",
       "  '8. Calculate the rebate: 1% rebate on orders above 11,000 units.',\n",
       "  '9. There is no additional cost for extending the warranty as it is optional.',\n",
       "  '10. Calculate the total annual cost by adding all relevant costs and subtracting any applicable rebates.'],\n",
       " 'Annual Cost of Contract ($)': 1115573}"
      ]
     },
     "execution_count": 14,
     "metadata": {},
     "output_type": "execute_result"
    }
   ],
   "source": [
    "base_offer = \"\"\"\n",
    "Price per unit: $100\n",
    "Quantity: 10,000 units\n",
    "Bundling: No bundling option.\n",
    "Payment Terms: NET10, no option for extending to NET30.\n",
    "Delivery Timelines: 7 days (faster).\n",
    "Contract Period Length: 1 year, with the option to renew at the same price.\n",
    "Rebates: 1% rebate on orders above 11,000 units.\n",
    "Warranties: 1-year standard warranty with an option to extend to 3 years for an additional $5/unit.\n",
    "Incoterms: FOB (Free on Board) – buyer is responsible for customs and delivery.\n",
    "\"\"\"\n",
    "proposal = \"\"\"Quantity: 11,000 units\"\"\"\n",
    "response = utils.calculate_TCO_from_offer_using_LLM(\n",
    "    base_offer = base_offer,\n",
    "    proposal = proposal,\n",
    "    model = model\n",
    ")\n",
    "response"
   ]
  },
  {
   "cell_type": "code",
   "execution_count": 16,
   "metadata": {},
   "outputs": [
    {
     "data": {
      "text/plain": [
       "[1, 1, 1]"
      ]
     },
     "execution_count": 16,
     "metadata": {},
     "output_type": "execute_result"
    }
   ],
   "source": [
    "random.choices([1],[4],k=3)"
   ]
  }
 ],
 "metadata": {
  "kernelspec": {
   "display_name": ".venv",
   "language": "python",
   "name": "python3"
  },
  "language_info": {
   "codemirror_mode": {
    "name": "ipython",
    "version": 3
   },
   "file_extension": ".py",
   "mimetype": "text/x-python",
   "name": "python",
   "nbconvert_exporter": "python",
   "pygments_lexer": "ipython3",
   "version": "3.12.9"
  }
 },
 "nbformat": 4,
 "nbformat_minor": 2
}
