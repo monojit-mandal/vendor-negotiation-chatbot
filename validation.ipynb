{
 "cells": [
  {
   "cell_type": "code",
   "execution_count": 1,
   "metadata": {},
   "outputs": [],
   "source": [
    "import duckdb\n",
    "import polars as pl"
   ]
  },
  {
   "cell_type": "code",
   "execution_count": 6,
   "metadata": {},
   "outputs": [
    {
     "data": {
      "text/html": [
       "<div><style>\n",
       ".dataframe > thead > tr,\n",
       ".dataframe > tbody > tr {\n",
       "  text-align: right;\n",
       "  white-space: pre-wrap;\n",
       "}\n",
       "</style>\n",
       "<small>shape: (2, 3)</small><table border=\"1\" class=\"dataframe\"><thead><tr><th>sender</th><th>content</th><th>timestamp</th></tr><tr><td>str</td><td>str</td><td>datetime[μs]</td></tr></thead><tbody><tr><td>&quot;user&quot;</td><td>&quot;&quot;</td><td>2024-11-13 09:52:31.812</td></tr><tr><td>&quot;assistant&quot;</td><td>&quot;Echo: &quot;</td><td>2024-11-13 09:52:31.819</td></tr></tbody></table></div>"
      ],
      "text/plain": [
       "shape: (2, 3)\n",
       "┌───────────┬─────────┬─────────────────────────┐\n",
       "│ sender    ┆ content ┆ timestamp               │\n",
       "│ ---       ┆ ---     ┆ ---                     │\n",
       "│ str       ┆ str     ┆ datetime[μs]            │\n",
       "╞═══════════╪═════════╪═════════════════════════╡\n",
       "│ user      ┆         ┆ 2024-11-13 09:52:31.812 │\n",
       "│ assistant ┆ Echo:   ┆ 2024-11-13 09:52:31.819 │\n",
       "└───────────┴─────────┴─────────────────────────┘"
      ]
     },
     "execution_count": 6,
     "metadata": {},
     "output_type": "execute_result"
    }
   ],
   "source": [
    "db_connection = duckdb.connect(\"chatbot.db\")\n",
    "df = pl.DataFrame(\n",
    "    db_connection.execute('''\n",
    "    select m.sender,m.content,m.timestamp from Users u left join Sessions s\n",
    "    on u.user_id = s.user_id\n",
    "    left join Messages m\n",
    "    on s.session_id = m.session_id\n",
    "    where u.user_id = ?\n",
    "    and s.session_id = ?\n",
    "    order by timestamp asc\n",
    "    ''',(1,2)).arrow()\n",
    ")\n",
    "df.head()"
   ]
  },
  {
   "cell_type": "code",
   "execution_count": 10,
   "metadata": {},
   "outputs": [
    {
     "data": {
      "text/plain": [
       "[('user',\n",
       "  'Hello, I am Monojit',\n",
       "  datetime.datetime(2024, 11, 13, 9, 33, 32, 305000)),\n",
       " ('assistant',\n",
       "  'Echo: Hello, I am Monojit',\n",
       "  datetime.datetime(2024, 11, 13, 9, 33, 32, 309000)),\n",
       " ('user', 'Hi', datetime.datetime(2024, 11, 13, 9, 33, 41, 282000)),\n",
       " ('assistant', 'Echo: Hi', datetime.datetime(2024, 11, 13, 9, 33, 41, 288000)),\n",
       " ('user', '', datetime.datetime(2024, 11, 13, 9, 33, 45, 456000)),\n",
       " ('assistant', 'Echo: ', datetime.datetime(2024, 11, 13, 9, 33, 45, 462000))]"
      ]
     },
     "execution_count": 10,
     "metadata": {},
     "output_type": "execute_result"
    }
   ],
   "source": [
    "db_connection.execute('''\n",
    "    select m.sender,m.content,m.timestamp from Users u left join Sessions s\n",
    "    on u.user_id = s.user_id\n",
    "    left join Messages m\n",
    "    on s.session_id = m.session_id\n",
    "    where u.user_id = ?\n",
    "    and s.session_id = ?\n",
    "    order by timestamp asc\n",
    "    ''',(1,1)).fetchall()"
   ]
  },
  {
   "cell_type": "code",
   "execution_count": 15,
   "metadata": {},
   "outputs": [],
   "source": [
    "db_connection.close()"
   ]
  },
  {
   "cell_type": "code",
   "execution_count": 26,
   "metadata": {},
   "outputs": [],
   "source": [
    "# db_connection = duckdb.connect(\"chatbot.db\")"
   ]
  },
  {
   "cell_type": "code",
   "execution_count": null,
   "metadata": {},
   "outputs": [],
   "source": [
    "db_connection = duckdb.connect(\"chatbot.db\")\n",
    "db_connection.execute('DROP TABLE Messages')\n",
    "db_connection.execute('DROP TABLE Sessions')\n",
    "db_connection.execute('DROP TABLE Users')\n",
    "db_connection.execute('DROP SEQUENCE user_id_seq')\n",
    "db_connection.execute('DROP SEQUENCE session_id_seq')\n",
    "db_connection.execute('DROP SEQUENCE message_id_seq')\n",
    "db_connection.close()"
   ]
  }
 ],
 "metadata": {
  "kernelspec": {
   "display_name": ".venv",
   "language": "python",
   "name": "python3"
  },
  "language_info": {
   "codemirror_mode": {
    "name": "ipython",
    "version": 3
   },
   "file_extension": ".py",
   "mimetype": "text/x-python",
   "name": "python",
   "nbconvert_exporter": "python",
   "pygments_lexer": "ipython3",
   "version": "3.12.7"
  }
 },
 "nbformat": 4,
 "nbformat_minor": 2
}
